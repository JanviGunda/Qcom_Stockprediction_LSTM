{
  "nbformat": 4,
  "nbformat_minor": 0,
  "metadata": {
    "colab": {
      "name": "JahnaviGunda_QCOM_LSTM.ipynb",
      "provenance": [],
      "collapsed_sections": []
    },
    "kernelspec": {
      "display_name": "Python 3",
      "name": "python3"
    },
    "language_info": {
      "name": "python"
    }
  },
  "cells": [
    {
      "cell_type": "markdown",
      "metadata": {
        "id": "Ah4xdus-fOIW"
      },
      "source": [
        "Long-Short-Term Memory model.\n"
      ]
    },
    {
      "cell_type": "code",
      "metadata": {
        "id": "YhxQE3dzspUQ"
      },
      "source": [
        "import math\n",
        "import numpy as np\n",
        "import pandas as pd\n",
        "from sklearn.preprocessing import MinMaxScaler\n",
        "from keras.models import Sequential\n",
        "from keras.layers import Dense, LSTM, Dropout\n",
        "import matplotlib.pyplot as plt\n",
        "plt.style.use('seaborn')"
      ],
      "execution_count": null,
      "outputs": []
    },
    {
      "cell_type": "markdown",
      "metadata": {
        "id": "h6OGOkxkjN0F"
      },
      "source": [
        " Importing necessary libraries and packages."
      ]
    },
    {
      "cell_type": "code",
      "metadata": {
        "colab": {
          "resources": {
            "http://localhost:8080/nbextensions/google.colab/files.js": {
              "data": "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",
              "ok": true,
              "headers": [
                [
                  "content-type",
                  "application/javascript"
                ]
              ],
              "status": 200,
              "status_text": "OK"
            }
          },
          "base_uri": "https://localhost:8080/",
          "height": 106
        },
        "id": "5XNqyIrUsw8P",
        "outputId": "122ce2ab-9e2b-475f-d6ce-4c13110d1b30"
      },
      "source": [
        "from google.colab import files\n",
        "uploaded = files.upload()"
      ],
      "execution_count": null,
      "outputs": [
        {
          "output_type": "display_data",
          "data": {
            "text/html": [
              "\n",
              "     <input type=\"file\" id=\"files-1cd25997-0d04-4294-919f-c56eda890402\" name=\"files[]\" multiple disabled\n",
              "        style=\"border:none\" />\n",
              "     <output id=\"result-1cd25997-0d04-4294-919f-c56eda890402\">\n",
              "      Upload widget is only available when the cell has been executed in the\n",
              "      current browser session. Please rerun this cell to enable.\n",
              "      </output>\n",
              "      <script src=\"/nbextensions/google.colab/files.js\"></script> "
            ],
            "text/plain": [
              "<IPython.core.display.HTML object>"
            ]
          },
          "metadata": {
            "tags": []
          }
        },
        {
          "output_type": "stream",
          "text": [
            "Saving filterQCOM_Totalheadlines_years.csv to filterQCOM_Totalheadlines_years.csv\n",
            "Saving QCOM.csv to QCOM.csv\n"
          ],
          "name": "stdout"
        }
      ]
    },
    {
      "cell_type": "code",
      "metadata": {
        "id": "GM2awaVYsa3u"
      },
      "source": [
        "import io\n",
        "df=pd.read_csv(io.BytesIO(uploaded['QCOM.csv']))\n",
        "Qcom_data=pd.read_csv(io.BytesIO(uploaded['filterQCOM_Totalheadlines_years.csv']))\n",
        "\n",
        "\n"
      ],
      "execution_count": null,
      "outputs": []
    },
    {
      "cell_type": "code",
      "metadata": {
        "colab": {
          "base_uri": "https://localhost:8080/",
          "height": 415
        },
        "id": "y1hDdmGNtPx3",
        "outputId": "5522eb75-8917-4290-f790-ff242176626c"
      },
      "source": [
        "Qcom_data = pd.read_csv(\"filterQCOM_Totalheadlines_years.csv\", parse_dates=['Date'])\n",
        "Qcom_data"
      ],
      "execution_count": null,
      "outputs": [
        {
          "output_type": "execute_result",
          "data": {
            "text/html": [
              "<div>\n",
              "<style scoped>\n",
              "    .dataframe tbody tr th:only-of-type {\n",
              "        vertical-align: middle;\n",
              "    }\n",
              "\n",
              "    .dataframe tbody tr th {\n",
              "        vertical-align: top;\n",
              "    }\n",
              "\n",
              "    .dataframe thead th {\n",
              "        text-align: right;\n",
              "    }\n",
              "</style>\n",
              "<table border=\"1\" class=\"dataframe\">\n",
              "  <thead>\n",
              "    <tr style=\"text-align: right;\">\n",
              "      <th></th>\n",
              "      <th>Date</th>\n",
              "      <th>Headlines</th>\n",
              "    </tr>\n",
              "  </thead>\n",
              "  <tbody>\n",
              "    <tr>\n",
              "      <th>0</th>\n",
              "      <td>2015-02-01</td>\n",
              "      <td>What to expect from Apple in 2015 beyond its s...</td>\n",
              "    </tr>\n",
              "    <tr>\n",
              "      <th>1</th>\n",
              "      <td>2015-09-01</td>\n",
              "      <td>Samsung is reportedly making a secret new chip...</td>\n",
              "    </tr>\n",
              "    <tr>\n",
              "      <th>2</th>\n",
              "      <td>2015-01-20</td>\n",
              "      <td>It Will Be Apple Watch Vs HTC Smart Watch In M...</td>\n",
              "    </tr>\n",
              "    <tr>\n",
              "      <th>3</th>\n",
              "      <td>2015-01-21</td>\n",
              "      <td>Samsung Electronics Co Ltd still pursuing Blac...</td>\n",
              "    </tr>\n",
              "    <tr>\n",
              "      <th>4</th>\n",
              "      <td>2015-01-28</td>\n",
              "      <td>Apple Inc. Readies Its New Music Service to Ch...</td>\n",
              "    </tr>\n",
              "    <tr>\n",
              "      <th>...</th>\n",
              "      <td>...</td>\n",
              "      <td>...</td>\n",
              "    </tr>\n",
              "    <tr>\n",
              "      <th>731</th>\n",
              "      <td>2021-05-21</td>\n",
              "      <td>Apple App Store profits look &amp;quot;disproporti...</td>\n",
              "    </tr>\n",
              "    <tr>\n",
              "      <th>732</th>\n",
              "      <td>2021-06-06</td>\n",
              "      <td>Facebook&amp;quot;s Trump ban will last at least 2...</td>\n",
              "    </tr>\n",
              "    <tr>\n",
              "      <th>733</th>\n",
              "      <td>2021-10-06</td>\n",
              "      <td>Apple announcements at WWDC show augmented rea...</td>\n",
              "    </tr>\n",
              "    <tr>\n",
              "      <th>734</th>\n",
              "      <td>2021-06-14</td>\n",
              "      <td>Cramer's Mad Money Recap: FAANG, Microsoft, Pa...</td>\n",
              "    </tr>\n",
              "    <tr>\n",
              "      <th>735</th>\n",
              "      <td>2021-06-16</td>\n",
              "      <td>Apple's Tim Cook: Sideloading is \"not in the b...</td>\n",
              "    </tr>\n",
              "  </tbody>\n",
              "</table>\n",
              "<p>736 rows × 2 columns</p>\n",
              "</div>"
            ],
            "text/plain": [
              "          Date                                          Headlines\n",
              "0   2015-02-01  What to expect from Apple in 2015 beyond its s...\n",
              "1   2015-09-01  Samsung is reportedly making a secret new chip...\n",
              "2   2015-01-20  It Will Be Apple Watch Vs HTC Smart Watch In M...\n",
              "3   2015-01-21  Samsung Electronics Co Ltd still pursuing Blac...\n",
              "4   2015-01-28  Apple Inc. Readies Its New Music Service to Ch...\n",
              "..         ...                                                ...\n",
              "731 2021-05-21  Apple App Store profits look &quot;disproporti...\n",
              "732 2021-06-06  Facebook&quot;s Trump ban will last at least 2...\n",
              "733 2021-10-06  Apple announcements at WWDC show augmented rea...\n",
              "734 2021-06-14  Cramer's Mad Money Recap: FAANG, Microsoft, Pa...\n",
              "735 2021-06-16  Apple's Tim Cook: Sideloading is \"not in the b...\n",
              "\n",
              "[736 rows x 2 columns]"
            ]
          },
          "metadata": {
            "tags": []
          },
          "execution_count": 6
        }
      ]
    },
    {
      "cell_type": "code",
      "metadata": {
        "colab": {
          "base_uri": "https://localhost:8080/"
        },
        "id": "qzx6n8zBtzzA",
        "outputId": "4833b6cf-b1bb-4484-c1f8-bb79e92b9c9b"
      },
      "source": [
        "\n",
        "Qcom_data.isnull().sum()"
      ],
      "execution_count": null,
      "outputs": [
        {
          "output_type": "execute_result",
          "data": {
            "text/plain": [
              "Date         0\n",
              "Headlines    0\n",
              "dtype: int64"
            ]
          },
          "metadata": {
            "tags": []
          },
          "execution_count": 7
        }
      ]
    },
    {
      "cell_type": "code",
      "metadata": {
        "id": "Ygxbr-4nt91J"
      },
      "source": [
        "Qcom_data.sort_index(inplace=True)"
      ],
      "execution_count": null,
      "outputs": []
    },
    {
      "cell_type": "code",
      "metadata": {
        "colab": {
          "base_uri": "https://localhost:8080/",
          "height": 202
        },
        "id": "ssrSme4MuC52",
        "outputId": "19d5b2dd-7a98-4415-8be2-91b1e7dd5230"
      },
      "source": [
        "df = pd.read_csv(\"QCOM.csv\", parse_dates=['Date'])\n",
        "df.head()"
      ],
      "execution_count": null,
      "outputs": [
        {
          "output_type": "execute_result",
          "data": {
            "text/html": [
              "<div>\n",
              "<style scoped>\n",
              "    .dataframe tbody tr th:only-of-type {\n",
              "        vertical-align: middle;\n",
              "    }\n",
              "\n",
              "    .dataframe tbody tr th {\n",
              "        vertical-align: top;\n",
              "    }\n",
              "\n",
              "    .dataframe thead th {\n",
              "        text-align: right;\n",
              "    }\n",
              "</style>\n",
              "<table border=\"1\" class=\"dataframe\">\n",
              "  <thead>\n",
              "    <tr style=\"text-align: right;\">\n",
              "      <th></th>\n",
              "      <th>Date</th>\n",
              "      <th>Close/Last</th>\n",
              "      <th>Volume</th>\n",
              "      <th>Open</th>\n",
              "      <th>High</th>\n",
              "      <th>Low</th>\n",
              "    </tr>\n",
              "  </thead>\n",
              "  <tbody>\n",
              "    <tr>\n",
              "      <th>0</th>\n",
              "      <td>2021-06-09</td>\n",
              "      <td>$132.89</td>\n",
              "      <td>6717243</td>\n",
              "      <td>$135.105</td>\n",
              "      <td>$135.35</td>\n",
              "      <td>$132.79</td>\n",
              "    </tr>\n",
              "    <tr>\n",
              "      <th>1</th>\n",
              "      <td>2021-06-08</td>\n",
              "      <td>$134.2</td>\n",
              "      <td>9657889</td>\n",
              "      <td>$134.06</td>\n",
              "      <td>$135.3895</td>\n",
              "      <td>$133</td>\n",
              "    </tr>\n",
              "    <tr>\n",
              "      <th>2</th>\n",
              "      <td>2021-06-07</td>\n",
              "      <td>$133.32</td>\n",
              "      <td>5563253</td>\n",
              "      <td>$133.7</td>\n",
              "      <td>$133.77</td>\n",
              "      <td>$132.64</td>\n",
              "    </tr>\n",
              "    <tr>\n",
              "      <th>3</th>\n",
              "      <td>2021-06-04</td>\n",
              "      <td>$134.34</td>\n",
              "      <td>7416675</td>\n",
              "      <td>$132.525</td>\n",
              "      <td>$135.05</td>\n",
              "      <td>$132.2</td>\n",
              "    </tr>\n",
              "    <tr>\n",
              "      <th>4</th>\n",
              "      <td>2021-06-03</td>\n",
              "      <td>$131.78</td>\n",
              "      <td>6643997</td>\n",
              "      <td>$132.65</td>\n",
              "      <td>$133.39</td>\n",
              "      <td>$131.42</td>\n",
              "    </tr>\n",
              "  </tbody>\n",
              "</table>\n",
              "</div>"
            ],
            "text/plain": [
              "        Date Close/Last   Volume      Open       High      Low\n",
              "0 2021-06-09    $132.89  6717243  $135.105    $135.35  $132.79\n",
              "1 2021-06-08     $134.2  9657889   $134.06  $135.3895     $133\n",
              "2 2021-06-07    $133.32  5563253    $133.7    $133.77  $132.64\n",
              "3 2021-06-04    $134.34  7416675  $132.525    $135.05   $132.2\n",
              "4 2021-06-03    $131.78  6643997   $132.65    $133.39  $131.42"
            ]
          },
          "metadata": {
            "tags": []
          },
          "execution_count": 9
        }
      ]
    },
    {
      "cell_type": "code",
      "metadata": {
        "id": "DpK0hpy2rTn7"
      },
      "source": [
        "df.rename(columns={\"Close/Last\":\"Close\"},inplace = True)\n",
        "\n"
      ],
      "execution_count": null,
      "outputs": []
    },
    {
      "cell_type": "code",
      "metadata": {
        "id": "TDijLSpUuN6Q"
      },
      "source": [
        "df.sort_values('Date', inplace=True)"
      ],
      "execution_count": null,
      "outputs": []
    },
    {
      "cell_type": "code",
      "metadata": {
        "colab": {
          "base_uri": "https://localhost:8080/",
          "height": 415
        },
        "id": "1CBslkGrue91",
        "outputId": "d48a4f7d-6f0e-446b-9130-3c6a912aa395"
      },
      "source": [
        "df.reset_index()"
      ],
      "execution_count": null,
      "outputs": [
        {
          "output_type": "execute_result",
          "data": {
            "text/html": [
              "<div>\n",
              "<style scoped>\n",
              "    .dataframe tbody tr th:only-of-type {\n",
              "        vertical-align: middle;\n",
              "    }\n",
              "\n",
              "    .dataframe tbody tr th {\n",
              "        vertical-align: top;\n",
              "    }\n",
              "\n",
              "    .dataframe thead th {\n",
              "        text-align: right;\n",
              "    }\n",
              "</style>\n",
              "<table border=\"1\" class=\"dataframe\">\n",
              "  <thead>\n",
              "    <tr style=\"text-align: right;\">\n",
              "      <th></th>\n",
              "      <th>index</th>\n",
              "      <th>Date</th>\n",
              "      <th>Close</th>\n",
              "      <th>Volume</th>\n",
              "      <th>Open</th>\n",
              "      <th>High</th>\n",
              "      <th>Low</th>\n",
              "    </tr>\n",
              "  </thead>\n",
              "  <tbody>\n",
              "    <tr>\n",
              "      <th>0</th>\n",
              "      <td>2515</td>\n",
              "      <td>2011-06-10</td>\n",
              "      <td>$54.6</td>\n",
              "      <td>14524760</td>\n",
              "      <td>$55.7</td>\n",
              "      <td>$55.74</td>\n",
              "      <td>$54.355</td>\n",
              "    </tr>\n",
              "    <tr>\n",
              "      <th>1</th>\n",
              "      <td>2514</td>\n",
              "      <td>2011-06-13</td>\n",
              "      <td>$54.4</td>\n",
              "      <td>10670650</td>\n",
              "      <td>$54.79</td>\n",
              "      <td>$54.89</td>\n",
              "      <td>$54.24</td>\n",
              "    </tr>\n",
              "    <tr>\n",
              "      <th>2</th>\n",
              "      <td>2513</td>\n",
              "      <td>2011-06-14</td>\n",
              "      <td>$55.58</td>\n",
              "      <td>11995730</td>\n",
              "      <td>$54.87</td>\n",
              "      <td>$55.87</td>\n",
              "      <td>$54.75</td>\n",
              "    </tr>\n",
              "    <tr>\n",
              "      <th>3</th>\n",
              "      <td>2512</td>\n",
              "      <td>2011-06-15</td>\n",
              "      <td>$54.1</td>\n",
              "      <td>16748740</td>\n",
              "      <td>$55.23</td>\n",
              "      <td>$55.56</td>\n",
              "      <td>$53.8</td>\n",
              "    </tr>\n",
              "    <tr>\n",
              "      <th>4</th>\n",
              "      <td>2511</td>\n",
              "      <td>2011-06-16</td>\n",
              "      <td>$52.99</td>\n",
              "      <td>19440800</td>\n",
              "      <td>$54.12</td>\n",
              "      <td>$54.21</td>\n",
              "      <td>$52.42</td>\n",
              "    </tr>\n",
              "    <tr>\n",
              "      <th>...</th>\n",
              "      <td>...</td>\n",
              "      <td>...</td>\n",
              "      <td>...</td>\n",
              "      <td>...</td>\n",
              "      <td>...</td>\n",
              "      <td>...</td>\n",
              "      <td>...</td>\n",
              "    </tr>\n",
              "    <tr>\n",
              "      <th>2511</th>\n",
              "      <td>4</td>\n",
              "      <td>2021-06-03</td>\n",
              "      <td>$131.78</td>\n",
              "      <td>6643997</td>\n",
              "      <td>$132.65</td>\n",
              "      <td>$133.39</td>\n",
              "      <td>$131.42</td>\n",
              "    </tr>\n",
              "    <tr>\n",
              "      <th>2512</th>\n",
              "      <td>3</td>\n",
              "      <td>2021-06-04</td>\n",
              "      <td>$134.34</td>\n",
              "      <td>7416675</td>\n",
              "      <td>$132.525</td>\n",
              "      <td>$135.05</td>\n",
              "      <td>$132.2</td>\n",
              "    </tr>\n",
              "    <tr>\n",
              "      <th>2513</th>\n",
              "      <td>2</td>\n",
              "      <td>2021-06-07</td>\n",
              "      <td>$133.32</td>\n",
              "      <td>5563253</td>\n",
              "      <td>$133.7</td>\n",
              "      <td>$133.77</td>\n",
              "      <td>$132.64</td>\n",
              "    </tr>\n",
              "    <tr>\n",
              "      <th>2514</th>\n",
              "      <td>1</td>\n",
              "      <td>2021-06-08</td>\n",
              "      <td>$134.2</td>\n",
              "      <td>9657889</td>\n",
              "      <td>$134.06</td>\n",
              "      <td>$135.3895</td>\n",
              "      <td>$133</td>\n",
              "    </tr>\n",
              "    <tr>\n",
              "      <th>2515</th>\n",
              "      <td>0</td>\n",
              "      <td>2021-06-09</td>\n",
              "      <td>$132.89</td>\n",
              "      <td>6717243</td>\n",
              "      <td>$135.105</td>\n",
              "      <td>$135.35</td>\n",
              "      <td>$132.79</td>\n",
              "    </tr>\n",
              "  </tbody>\n",
              "</table>\n",
              "<p>2516 rows × 7 columns</p>\n",
              "</div>"
            ],
            "text/plain": [
              "      index       Date    Close    Volume      Open       High      Low\n",
              "0      2515 2011-06-10    $54.6  14524760     $55.7     $55.74  $54.355\n",
              "1      2514 2011-06-13    $54.4  10670650    $54.79     $54.89   $54.24\n",
              "2      2513 2011-06-14   $55.58  11995730    $54.87     $55.87   $54.75\n",
              "3      2512 2011-06-15    $54.1  16748740    $55.23     $55.56    $53.8\n",
              "4      2511 2011-06-16   $52.99  19440800    $54.12     $54.21   $52.42\n",
              "...     ...        ...      ...       ...       ...        ...      ...\n",
              "2511      4 2021-06-03  $131.78   6643997   $132.65    $133.39  $131.42\n",
              "2512      3 2021-06-04  $134.34   7416675  $132.525    $135.05   $132.2\n",
              "2513      2 2021-06-07  $133.32   5563253    $133.7    $133.77  $132.64\n",
              "2514      1 2021-06-08   $134.2   9657889   $134.06  $135.3895     $133\n",
              "2515      0 2021-06-09  $132.89   6717243  $135.105    $135.35  $132.79\n",
              "\n",
              "[2516 rows x 7 columns]"
            ]
          },
          "metadata": {
            "tags": []
          },
          "execution_count": 12
        }
      ]
    },
    {
      "cell_type": "code",
      "metadata": {
        "colab": {
          "base_uri": "https://localhost:8080/"
        },
        "id": "mut-lGtjujW7",
        "outputId": "f0331c27-7b26-4b8e-e57d-a619364f8ae8"
      },
      "source": [
        "df.columns"
      ],
      "execution_count": null,
      "outputs": [
        {
          "output_type": "execute_result",
          "data": {
            "text/plain": [
              "Index(['Date', 'Close', 'Volume', 'Open', 'High', 'Low'], dtype='object')"
            ]
          },
          "metadata": {
            "tags": []
          },
          "execution_count": 13
        }
      ]
    },
    {
      "cell_type": "markdown",
      "metadata": {
        "id": "AK_gbZlvlyfG"
      },
      "source": [
        "Merging of headline and historical dataset."
      ]
    },
    {
      "cell_type": "code",
      "metadata": {
        "id": "CpP32-1buqda"
      },
      "source": [
        "data = pd.merge(Qcom_data, df, how='inner', on=['Date'])"
      ],
      "execution_count": null,
      "outputs": []
    },
    {
      "cell_type": "code",
      "metadata": {
        "colab": {
          "base_uri": "https://localhost:8080/",
          "height": 415
        },
        "id": "u5OuTN1Eu1DR",
        "outputId": "d454cb1d-5e09-4258-806d-15ca0c6983a1"
      },
      "source": [
        "data"
      ],
      "execution_count": null,
      "outputs": [
        {
          "output_type": "execute_result",
          "data": {
            "text/html": [
              "<div>\n",
              "<style scoped>\n",
              "    .dataframe tbody tr th:only-of-type {\n",
              "        vertical-align: middle;\n",
              "    }\n",
              "\n",
              "    .dataframe tbody tr th {\n",
              "        vertical-align: top;\n",
              "    }\n",
              "\n",
              "    .dataframe thead th {\n",
              "        text-align: right;\n",
              "    }\n",
              "</style>\n",
              "<table border=\"1\" class=\"dataframe\">\n",
              "  <thead>\n",
              "    <tr style=\"text-align: right;\">\n",
              "      <th></th>\n",
              "      <th>Date</th>\n",
              "      <th>Headlines</th>\n",
              "      <th>Close</th>\n",
              "      <th>Volume</th>\n",
              "      <th>Open</th>\n",
              "      <th>High</th>\n",
              "      <th>Low</th>\n",
              "    </tr>\n",
              "  </thead>\n",
              "  <tbody>\n",
              "    <tr>\n",
              "      <th>0</th>\n",
              "      <td>2015-09-01</td>\n",
              "      <td>Samsung is reportedly making a secret new chip...</td>\n",
              "      <td>$55.02</td>\n",
              "      <td>13123390</td>\n",
              "      <td>$55.25</td>\n",
              "      <td>$55.911</td>\n",
              "      <td>$54.69</td>\n",
              "    </tr>\n",
              "    <tr>\n",
              "      <th>1</th>\n",
              "      <td>2015-01-20</td>\n",
              "      <td>It Will Be Apple Watch Vs HTC Smart Watch In M...</td>\n",
              "      <td>$72.48</td>\n",
              "      <td>11725560</td>\n",
              "      <td>$71.75</td>\n",
              "      <td>$73.21</td>\n",
              "      <td>$71.18</td>\n",
              "    </tr>\n",
              "    <tr>\n",
              "      <th>2</th>\n",
              "      <td>2015-01-21</td>\n",
              "      <td>Samsung Electronics Co Ltd still pursuing Blac...</td>\n",
              "      <td>$71.59</td>\n",
              "      <td>16990240</td>\n",
              "      <td>$70.28</td>\n",
              "      <td>$72.61</td>\n",
              "      <td>$69.95</td>\n",
              "    </tr>\n",
              "    <tr>\n",
              "      <th>3</th>\n",
              "      <td>2015-01-28</td>\n",
              "      <td>Apple Inc. Readies Its New Music Service to Ch...</td>\n",
              "      <td>$70.99</td>\n",
              "      <td>15578410</td>\n",
              "      <td>$72.5</td>\n",
              "      <td>$72.5</td>\n",
              "      <td>$70.85</td>\n",
              "    </tr>\n",
              "    <tr>\n",
              "      <th>4</th>\n",
              "      <td>2015-01-29</td>\n",
              "      <td>The feature film that blew away everyone  at S...</td>\n",
              "      <td>$63.69</td>\n",
              "      <td>47077720</td>\n",
              "      <td>$65.51</td>\n",
              "      <td>$65.69</td>\n",
              "      <td>$62.47</td>\n",
              "    </tr>\n",
              "    <tr>\n",
              "      <th>...</th>\n",
              "      <td>...</td>\n",
              "      <td>...</td>\n",
              "      <td>...</td>\n",
              "      <td>...</td>\n",
              "      <td>...</td>\n",
              "      <td>...</td>\n",
              "      <td>...</td>\n",
              "    </tr>\n",
              "    <tr>\n",
              "      <th>579</th>\n",
              "      <td>2021-04-27</td>\n",
              "      <td>Belvedere Trading LLC Buys Apple Inc, S&amp;P 500 ...</td>\n",
              "      <td>$138.01</td>\n",
              "      <td>9284499</td>\n",
              "      <td>$138.71</td>\n",
              "      <td>$139.38</td>\n",
              "      <td>$136.98</td>\n",
              "    </tr>\n",
              "    <tr>\n",
              "      <th>580</th>\n",
              "      <td>2021-04-28</td>\n",
              "      <td>Apple profit soars in latest quarter on higher...</td>\n",
              "      <td>$136.57</td>\n",
              "      <td>13118140</td>\n",
              "      <td>$138.17</td>\n",
              "      <td>$138.2731</td>\n",
              "      <td>$135.75</td>\n",
              "    </tr>\n",
              "    <tr>\n",
              "      <th>581</th>\n",
              "      <td>2021-04-29</td>\n",
              "      <td>Apple (NASDAQ:AAPL) Posts  Earnings Results, B...</td>\n",
              "      <td>$142.68</td>\n",
              "      <td>20502140</td>\n",
              "      <td>$145.01</td>\n",
              "      <td>$145.2965</td>\n",
              "      <td>$140.67</td>\n",
              "    </tr>\n",
              "    <tr>\n",
              "      <th>582</th>\n",
              "      <td>2021-05-14</td>\n",
              "      <td>US stocks surge in recovery; dollar, bond yiel...</td>\n",
              "      <td>$130.15</td>\n",
              "      <td>9391122</td>\n",
              "      <td>$128.63</td>\n",
              "      <td>$131.42</td>\n",
              "      <td>$127.81</td>\n",
              "    </tr>\n",
              "    <tr>\n",
              "      <th>583</th>\n",
              "      <td>2021-05-21</td>\n",
              "      <td>Apple App Store profits look &amp;quot;disproporti...</td>\n",
              "      <td>$131.46</td>\n",
              "      <td>8673957</td>\n",
              "      <td>$132.14</td>\n",
              "      <td>$132.6897</td>\n",
              "      <td>$130.49</td>\n",
              "    </tr>\n",
              "  </tbody>\n",
              "</table>\n",
              "<p>584 rows × 7 columns</p>\n",
              "</div>"
            ],
            "text/plain": [
              "          Date  ...      Low\n",
              "0   2015-09-01  ...   $54.69\n",
              "1   2015-01-20  ...   $71.18\n",
              "2   2015-01-21  ...   $69.95\n",
              "3   2015-01-28  ...   $70.85\n",
              "4   2015-01-29  ...   $62.47\n",
              "..         ...  ...      ...\n",
              "579 2021-04-27  ...  $136.98\n",
              "580 2021-04-28  ...  $135.75\n",
              "581 2021-04-29  ...  $140.67\n",
              "582 2021-05-14  ...  $127.81\n",
              "583 2021-05-21  ...  $130.49\n",
              "\n",
              "[584 rows x 7 columns]"
            ]
          },
          "metadata": {
            "tags": []
          },
          "execution_count": 15
        }
      ]
    },
    {
      "cell_type": "code",
      "metadata": {
        "id": "KOmOjCZRu3V8"
      },
      "source": [
        "data[\"Close\"] = data[\"Close\"].str.replace('$', '').astype(float)\n",
        "data[\"Open\"] = data[\"Open\"].str.replace('$', '').astype(float)\n",
        "data[\"High\"] = data[\"High\"].str.replace('$', '').astype(float)\n",
        "data[\"Low\"] = data[\"Low\"].str.replace('$', '').astype(float)"
      ],
      "execution_count": null,
      "outputs": []
    },
    {
      "cell_type": "markdown",
      "metadata": {
        "id": "4SQuIAaNmFsL"
      },
      "source": [
        "Typecasting object data to float data."
      ]
    },
    {
      "cell_type": "code",
      "metadata": {
        "colab": {
          "base_uri": "https://localhost:8080/",
          "height": 202
        },
        "id": "HohWUBqou9ho",
        "outputId": "2fc28832-aa43-4a1f-c68f-0fd2ef7e68a6"
      },
      "source": [
        "data.head()"
      ],
      "execution_count": null,
      "outputs": [
        {
          "output_type": "execute_result",
          "data": {
            "text/html": [
              "<div>\n",
              "<style scoped>\n",
              "    .dataframe tbody tr th:only-of-type {\n",
              "        vertical-align: middle;\n",
              "    }\n",
              "\n",
              "    .dataframe tbody tr th {\n",
              "        vertical-align: top;\n",
              "    }\n",
              "\n",
              "    .dataframe thead th {\n",
              "        text-align: right;\n",
              "    }\n",
              "</style>\n",
              "<table border=\"1\" class=\"dataframe\">\n",
              "  <thead>\n",
              "    <tr style=\"text-align: right;\">\n",
              "      <th></th>\n",
              "      <th>Date</th>\n",
              "      <th>Headlines</th>\n",
              "      <th>Close</th>\n",
              "      <th>Volume</th>\n",
              "      <th>Open</th>\n",
              "      <th>High</th>\n",
              "      <th>Low</th>\n",
              "    </tr>\n",
              "  </thead>\n",
              "  <tbody>\n",
              "    <tr>\n",
              "      <th>0</th>\n",
              "      <td>2015-09-01</td>\n",
              "      <td>Samsung is reportedly making a secret new chip...</td>\n",
              "      <td>55.02</td>\n",
              "      <td>13123390</td>\n",
              "      <td>55.25</td>\n",
              "      <td>55.911</td>\n",
              "      <td>54.69</td>\n",
              "    </tr>\n",
              "    <tr>\n",
              "      <th>1</th>\n",
              "      <td>2015-01-20</td>\n",
              "      <td>It Will Be Apple Watch Vs HTC Smart Watch In M...</td>\n",
              "      <td>72.48</td>\n",
              "      <td>11725560</td>\n",
              "      <td>71.75</td>\n",
              "      <td>73.210</td>\n",
              "      <td>71.18</td>\n",
              "    </tr>\n",
              "    <tr>\n",
              "      <th>2</th>\n",
              "      <td>2015-01-21</td>\n",
              "      <td>Samsung Electronics Co Ltd still pursuing Blac...</td>\n",
              "      <td>71.59</td>\n",
              "      <td>16990240</td>\n",
              "      <td>70.28</td>\n",
              "      <td>72.610</td>\n",
              "      <td>69.95</td>\n",
              "    </tr>\n",
              "    <tr>\n",
              "      <th>3</th>\n",
              "      <td>2015-01-28</td>\n",
              "      <td>Apple Inc. Readies Its New Music Service to Ch...</td>\n",
              "      <td>70.99</td>\n",
              "      <td>15578410</td>\n",
              "      <td>72.50</td>\n",
              "      <td>72.500</td>\n",
              "      <td>70.85</td>\n",
              "    </tr>\n",
              "    <tr>\n",
              "      <th>4</th>\n",
              "      <td>2015-01-29</td>\n",
              "      <td>The feature film that blew away everyone  at S...</td>\n",
              "      <td>63.69</td>\n",
              "      <td>47077720</td>\n",
              "      <td>65.51</td>\n",
              "      <td>65.690</td>\n",
              "      <td>62.47</td>\n",
              "    </tr>\n",
              "  </tbody>\n",
              "</table>\n",
              "</div>"
            ],
            "text/plain": [
              "        Date                                          Headlines  ...    High    Low\n",
              "0 2015-09-01  Samsung is reportedly making a secret new chip...  ...  55.911  54.69\n",
              "1 2015-01-20  It Will Be Apple Watch Vs HTC Smart Watch In M...  ...  73.210  71.18\n",
              "2 2015-01-21  Samsung Electronics Co Ltd still pursuing Blac...  ...  72.610  69.95\n",
              "3 2015-01-28  Apple Inc. Readies Its New Music Service to Ch...  ...  72.500  70.85\n",
              "4 2015-01-29  The feature film that blew away everyone  at S...  ...  65.690  62.47\n",
              "\n",
              "[5 rows x 7 columns]"
            ]
          },
          "metadata": {
            "tags": []
          },
          "execution_count": 17
        }
      ]
    },
    {
      "cell_type": "code",
      "metadata": {
        "colab": {
          "base_uri": "https://localhost:8080/",
          "height": 233
        },
        "id": "ifnyXz3zvBMJ",
        "outputId": "4e1c0b7e-7a15-4ecc-95ab-54febc9de838"
      },
      "source": [
        "data.set_index(\"Date\", inplace = True)\n",
        "data.head()"
      ],
      "execution_count": null,
      "outputs": [
        {
          "output_type": "execute_result",
          "data": {
            "text/html": [
              "<div>\n",
              "<style scoped>\n",
              "    .dataframe tbody tr th:only-of-type {\n",
              "        vertical-align: middle;\n",
              "    }\n",
              "\n",
              "    .dataframe tbody tr th {\n",
              "        vertical-align: top;\n",
              "    }\n",
              "\n",
              "    .dataframe thead th {\n",
              "        text-align: right;\n",
              "    }\n",
              "</style>\n",
              "<table border=\"1\" class=\"dataframe\">\n",
              "  <thead>\n",
              "    <tr style=\"text-align: right;\">\n",
              "      <th></th>\n",
              "      <th>Headlines</th>\n",
              "      <th>Close</th>\n",
              "      <th>Volume</th>\n",
              "      <th>Open</th>\n",
              "      <th>High</th>\n",
              "      <th>Low</th>\n",
              "    </tr>\n",
              "    <tr>\n",
              "      <th>Date</th>\n",
              "      <th></th>\n",
              "      <th></th>\n",
              "      <th></th>\n",
              "      <th></th>\n",
              "      <th></th>\n",
              "      <th></th>\n",
              "    </tr>\n",
              "  </thead>\n",
              "  <tbody>\n",
              "    <tr>\n",
              "      <th>2015-09-01</th>\n",
              "      <td>Samsung is reportedly making a secret new chip...</td>\n",
              "      <td>55.02</td>\n",
              "      <td>13123390</td>\n",
              "      <td>55.25</td>\n",
              "      <td>55.911</td>\n",
              "      <td>54.69</td>\n",
              "    </tr>\n",
              "    <tr>\n",
              "      <th>2015-01-20</th>\n",
              "      <td>It Will Be Apple Watch Vs HTC Smart Watch In M...</td>\n",
              "      <td>72.48</td>\n",
              "      <td>11725560</td>\n",
              "      <td>71.75</td>\n",
              "      <td>73.210</td>\n",
              "      <td>71.18</td>\n",
              "    </tr>\n",
              "    <tr>\n",
              "      <th>2015-01-21</th>\n",
              "      <td>Samsung Electronics Co Ltd still pursuing Blac...</td>\n",
              "      <td>71.59</td>\n",
              "      <td>16990240</td>\n",
              "      <td>70.28</td>\n",
              "      <td>72.610</td>\n",
              "      <td>69.95</td>\n",
              "    </tr>\n",
              "    <tr>\n",
              "      <th>2015-01-28</th>\n",
              "      <td>Apple Inc. Readies Its New Music Service to Ch...</td>\n",
              "      <td>70.99</td>\n",
              "      <td>15578410</td>\n",
              "      <td>72.50</td>\n",
              "      <td>72.500</td>\n",
              "      <td>70.85</td>\n",
              "    </tr>\n",
              "    <tr>\n",
              "      <th>2015-01-29</th>\n",
              "      <td>The feature film that blew away everyone  at S...</td>\n",
              "      <td>63.69</td>\n",
              "      <td>47077720</td>\n",
              "      <td>65.51</td>\n",
              "      <td>65.690</td>\n",
              "      <td>62.47</td>\n",
              "    </tr>\n",
              "  </tbody>\n",
              "</table>\n",
              "</div>"
            ],
            "text/plain": [
              "                                                    Headlines  ...    Low\n",
              "Date                                                           ...       \n",
              "2015-09-01  Samsung is reportedly making a secret new chip...  ...  54.69\n",
              "2015-01-20  It Will Be Apple Watch Vs HTC Smart Watch In M...  ...  71.18\n",
              "2015-01-21  Samsung Electronics Co Ltd still pursuing Blac...  ...  69.95\n",
              "2015-01-28  Apple Inc. Readies Its New Music Service to Ch...  ...  70.85\n",
              "2015-01-29  The feature film that blew away everyone  at S...  ...  62.47\n",
              "\n",
              "[5 rows x 6 columns]"
            ]
          },
          "metadata": {
            "tags": []
          },
          "execution_count": 18
        }
      ]
    },
    {
      "cell_type": "code",
      "metadata": {
        "colab": {
          "base_uri": "https://localhost:8080/",
          "height": 233
        },
        "id": "tzkz1y6fvEaC",
        "outputId": "c04f843f-3df0-4b6c-e140-efa5947b6b3a"
      },
      "source": [
        "data.sort_index(ascending=True,inplace=True)\n",
        "data.head()"
      ],
      "execution_count": null,
      "outputs": [
        {
          "output_type": "execute_result",
          "data": {
            "text/html": [
              "<div>\n",
              "<style scoped>\n",
              "    .dataframe tbody tr th:only-of-type {\n",
              "        vertical-align: middle;\n",
              "    }\n",
              "\n",
              "    .dataframe tbody tr th {\n",
              "        vertical-align: top;\n",
              "    }\n",
              "\n",
              "    .dataframe thead th {\n",
              "        text-align: right;\n",
              "    }\n",
              "</style>\n",
              "<table border=\"1\" class=\"dataframe\">\n",
              "  <thead>\n",
              "    <tr style=\"text-align: right;\">\n",
              "      <th></th>\n",
              "      <th>Headlines</th>\n",
              "      <th>Close</th>\n",
              "      <th>Volume</th>\n",
              "      <th>Open</th>\n",
              "      <th>High</th>\n",
              "      <th>Low</th>\n",
              "    </tr>\n",
              "    <tr>\n",
              "      <th>Date</th>\n",
              "      <th></th>\n",
              "      <th></th>\n",
              "      <th></th>\n",
              "      <th></th>\n",
              "      <th></th>\n",
              "      <th></th>\n",
              "    </tr>\n",
              "  </thead>\n",
              "  <tbody>\n",
              "    <tr>\n",
              "      <th>2015-01-20</th>\n",
              "      <td>It Will Be Apple Watch Vs HTC Smart Watch In M...</td>\n",
              "      <td>72.48</td>\n",
              "      <td>11725560</td>\n",
              "      <td>71.75</td>\n",
              "      <td>73.21</td>\n",
              "      <td>71.18</td>\n",
              "    </tr>\n",
              "    <tr>\n",
              "      <th>2015-01-21</th>\n",
              "      <td>Samsung Electronics Co Ltd still pursuing Blac...</td>\n",
              "      <td>71.59</td>\n",
              "      <td>16990240</td>\n",
              "      <td>70.28</td>\n",
              "      <td>72.61</td>\n",
              "      <td>69.95</td>\n",
              "    </tr>\n",
              "    <tr>\n",
              "      <th>2015-01-28</th>\n",
              "      <td>Apple Inc. Readies Its New Music Service to Ch...</td>\n",
              "      <td>70.99</td>\n",
              "      <td>15578410</td>\n",
              "      <td>72.50</td>\n",
              "      <td>72.50</td>\n",
              "      <td>70.85</td>\n",
              "    </tr>\n",
              "    <tr>\n",
              "      <th>2015-01-29</th>\n",
              "      <td>The feature film that blew away everyone  at S...</td>\n",
              "      <td>63.69</td>\n",
              "      <td>47077720</td>\n",
              "      <td>65.51</td>\n",
              "      <td>65.69</td>\n",
              "      <td>62.47</td>\n",
              "    </tr>\n",
              "    <tr>\n",
              "      <th>2015-01-30</th>\n",
              "      <td>Samsung Group (SSNLF) To Mantain Delicate Bala...</td>\n",
              "      <td>62.46</td>\n",
              "      <td>26395180</td>\n",
              "      <td>63.04</td>\n",
              "      <td>64.01</td>\n",
              "      <td>62.39</td>\n",
              "    </tr>\n",
              "  </tbody>\n",
              "</table>\n",
              "</div>"
            ],
            "text/plain": [
              "                                                    Headlines  ...    Low\n",
              "Date                                                           ...       \n",
              "2015-01-20  It Will Be Apple Watch Vs HTC Smart Watch In M...  ...  71.18\n",
              "2015-01-21  Samsung Electronics Co Ltd still pursuing Blac...  ...  69.95\n",
              "2015-01-28  Apple Inc. Readies Its New Music Service to Ch...  ...  70.85\n",
              "2015-01-29  The feature film that blew away everyone  at S...  ...  62.47\n",
              "2015-01-30  Samsung Group (SSNLF) To Mantain Delicate Bala...  ...  62.39\n",
              "\n",
              "[5 rows x 6 columns]"
            ]
          },
          "metadata": {
            "tags": []
          },
          "execution_count": 19
        }
      ]
    },
    {
      "cell_type": "code",
      "metadata": {
        "colab": {
          "base_uri": "https://localhost:8080/"
        },
        "id": "AEF5emvevHpz",
        "outputId": "3099a96e-0bc2-4ae2-a243-9c8dc427b166"
      },
      "source": [
        "data.shape"
      ],
      "execution_count": null,
      "outputs": [
        {
          "output_type": "execute_result",
          "data": {
            "text/plain": [
              "(584, 6)"
            ]
          },
          "metadata": {
            "tags": []
          },
          "execution_count": 20
        }
      ]
    },
    {
      "cell_type": "markdown",
      "metadata": {
        "id": "uEMQWSJzmjNK"
      },
      "source": [
        "Contains 584 observations and 6 attributes."
      ]
    },
    {
      "cell_type": "code",
      "metadata": {
        "colab": {
          "base_uri": "https://localhost:8080/",
          "height": 470
        },
        "id": "wwZCxDmHvKxs",
        "outputId": "916ba6cf-7b8d-4ca0-c87b-1e116fc62cd2"
      },
      "source": [
        "plt.figure(figsize=(13,7))\n",
        "plt.title('Close Price History of Qualcomm', fontsize = 20)\n",
        "plt.plot(data['Close'])\n",
        "plt.xlabel('Date', fontsize = 16, color = 'g')\n",
        "plt.ylabel('Close Price', fontsize = 16, color = 'g')\n",
        "plt.xticks(fontsize = 12)\n",
        "plt.yticks(fontsize = 12)\n",
        "plt.show()"
      ],
      "execution_count": null,
      "outputs": [
        {
          "output_type": "display_data",
          "data": {
            "image/png": "[encoded data removed]",
            "text/plain": [
              "<Figure size 936x504 with 1 Axes>"
            ]
          },
          "metadata": {
            "tags": [],
            "needs_background": "light"
          }
        }
      ]
    },
    {
      "cell_type": "markdown",
      "metadata": {
        "id": "j9dFkwr5nVUs"
      },
      "source": [
        "Sentiment Analysis(NLP).\n",
        "identify and extract opinions within a given text across blogs, reviews, social media, forums, news etc."
      ]
    },
    {
      "cell_type": "code",
      "metadata": {
        "id": "JzWE0YQEvRSf"
      },
      "source": [
        "import os"
      ],
      "execution_count": null,
      "outputs": []
    },
    {
      "cell_type": "code",
      "metadata": {
        "id": "DTWCWq6xcW-E"
      },
      "source": [
        "from google.colab import drive"
      ],
      "execution_count": null,
      "outputs": []
    },
    {
      "cell_type": "code",
      "metadata": {
        "colab": {
          "base_uri": "https://localhost:8080/"
        },
        "id": "pf_zl_GecSfI",
        "outputId": "58107595-d0c9-4d1e-9a2c-bc90c12866f5"
      },
      "source": [
        "drive.mount('/drive')"
      ],
      "execution_count": null,
      "outputs": [
        {
          "output_type": "stream",
          "text": [
            "Mounted at /drive\n"
          ],
          "name": "stdout"
        }
      ]
    },
    {
      "cell_type": "code",
      "metadata": {
        "id": "bA4P4Oe5vzh_"
      },
      "source": [
        "data.to_csv('/drive/My Drive/csv_fromcolab/NewsandHistoricaldata.csv')"
      ],
      "execution_count": null,
      "outputs": []
    },
    {
      "cell_type": "code",
      "metadata": {
        "colab": {
          "base_uri": "https://localhost:8080/",
          "height": 17
        },
        "id": "1DopMzOQcgvt",
        "outputId": "a2de535a-27fb-476a-bc61-69ee6ab1565e"
      },
      "source": [
        "files.download('/drive/My Drive/csv_fromcolab/NewsandHistoricaldata.csv')"
      ],
      "execution_count": null,
      "outputs": [
        {
          "output_type": "display_data",
          "data": {
            "application/javascript": [
              "\n",
              "    async function download(id, filename, size) {\n",
              "      if (!google.colab.kernel.accessAllowed) {\n",
              "        return;\n",
              "      }\n",
              "      const div = document.createElement('div');\n",
              "      const label = document.createElement('label');\n",
              "      label.textContent = `Downloading \"${filename}\": `;\n",
              "      div.appendChild(label);\n",
              "      const progress = document.createElement('progress');\n",
              "      progress.max = size;\n",
              "      div.appendChild(progress);\n",
              "      document.body.appendChild(div);\n",
              "\n",
              "      const buffers = [];\n",
              "      let downloaded = 0;\n",
              "\n",
              "      const channel = await google.colab.kernel.comms.open(id);\n",
              "      // Send a message to notify the kernel that we're ready.\n",
              "      channel.send({})\n",
              "\n",
              "      for await (const message of channel.messages) {\n",
              "        // Send a message to notify the kernel that we're ready.\n",
              "        channel.send({})\n",
              "        if (message.buffers) {\n",
              "          for (const buffer of message.buffers) {\n",
              "            buffers.push(buffer);\n",
              "            downloaded += buffer.byteLength;\n",
              "            progress.value = downloaded;\n",
              "          }\n",
              "        }\n",
              "      }\n",
              "      const blob = new Blob(buffers, {type: 'application/binary'});\n",
              "      const a = document.createElement('a');\n",
              "      a.href = window.URL.createObjectURL(blob);\n",
              "      a.download = filename;\n",
              "      div.appendChild(a);\n",
              "      a.click();\n",
              "      div.remove();\n",
              "    }\n",
              "  "
            ],
            "text/plain": [
              "<IPython.core.display.Javascript object>"
            ]
          },
          "metadata": {
            "tags": []
          }
        },
        {
          "output_type": "display_data",
          "data": {
            "application/javascript": [
              "download(\"download_4a4d1df4-a7e3-496b-a0dd-6ed5db76b9f4\", \"NewsandHistoricaldata.csv\", 2763299)"
            ],
            "text/plain": [
              "<IPython.core.display.Javascript object>"
            ]
          },
          "metadata": {
            "tags": []
          }
        }
      ]
    },
    {
      "cell_type": "markdown",
      "metadata": {
        "id": "QQVsDjAbnQEK"
      },
      "source": [
        "Appended the merged data to a csv file."
      ]
    },
    {
      "cell_type": "code",
      "metadata": {
        "colab": {
          "base_uri": "https://localhost:8080/",
          "height": 35
        },
        "id": "6opBdoiP05tE",
        "outputId": "3537cbf8-f58e-4c2c-fef1-c4a1d3af9cfd"
      },
      "source": [
        "os.getcwd()"
      ],
      "execution_count": null,
      "outputs": [
        {
          "output_type": "execute_result",
          "data": {
            "application/vnd.google.colaboratory.intrinsic+json": {
              "type": "string"
            },
            "text/plain": [
              "'/content'"
            ]
          },
          "metadata": {
            "tags": []
          },
          "execution_count": 24
        }
      ]
    },
    {
      "cell_type": "markdown",
      "metadata": {
        "id": "G_8LxNHXfwJC"
      },
      "source": [
        "Returns current directory ."
      ]
    },
    {
      "cell_type": "code",
      "metadata": {
        "colab": {
          "base_uri": "https://localhost:8080/",
          "height": 233
        },
        "id": "7WRZ7kRW09C1",
        "outputId": "0d531a6c-537b-4818-b884-99f61df19137"
      },
      "source": [
        "data['compound'] = ''\n",
        "data['negative'] = ''\n",
        "data['neutral'] = ''\n",
        "data['positive'] = ''\n",
        "data.head()"
      ],
      "execution_count": null,
      "outputs": [
        {
          "output_type": "execute_result",
          "data": {
            "text/html": [
              "<div>\n",
              "<style scoped>\n",
              "    .dataframe tbody tr th:only-of-type {\n",
              "        vertical-align: middle;\n",
              "    }\n",
              "\n",
              "    .dataframe tbody tr th {\n",
              "        vertical-align: top;\n",
              "    }\n",
              "\n",
              "    .dataframe thead th {\n",
              "        text-align: right;\n",
              "    }\n",
              "</style>\n",
              "<table border=\"1\" class=\"dataframe\">\n",
              "  <thead>\n",
              "    <tr style=\"text-align: right;\">\n",
              "      <th></th>\n",
              "      <th>Headlines</th>\n",
              "      <th>Close</th>\n",
              "      <th>Volume</th>\n",
              "      <th>Open</th>\n",
              "      <th>High</th>\n",
              "      <th>Low</th>\n",
              "      <th>compound</th>\n",
              "      <th>negative</th>\n",
              "      <th>neutral</th>\n",
              "      <th>positive</th>\n",
              "    </tr>\n",
              "    <tr>\n",
              "      <th>Date</th>\n",
              "      <th></th>\n",
              "      <th></th>\n",
              "      <th></th>\n",
              "      <th></th>\n",
              "      <th></th>\n",
              "      <th></th>\n",
              "      <th></th>\n",
              "      <th></th>\n",
              "      <th></th>\n",
              "      <th></th>\n",
              "    </tr>\n",
              "  </thead>\n",
              "  <tbody>\n",
              "    <tr>\n",
              "      <th>2015-01-20</th>\n",
              "      <td>It Will Be Apple Watch Vs HTC Smart Watch In M...</td>\n",
              "      <td>72.48</td>\n",
              "      <td>11725560</td>\n",
              "      <td>71.75</td>\n",
              "      <td>73.21</td>\n",
              "      <td>71.18</td>\n",
              "      <td></td>\n",
              "      <td></td>\n",
              "      <td></td>\n",
              "      <td></td>\n",
              "    </tr>\n",
              "    <tr>\n",
              "      <th>2015-01-21</th>\n",
              "      <td>Samsung Electronics Co Ltd still pursuing Blac...</td>\n",
              "      <td>71.59</td>\n",
              "      <td>16990240</td>\n",
              "      <td>70.28</td>\n",
              "      <td>72.61</td>\n",
              "      <td>69.95</td>\n",
              "      <td></td>\n",
              "      <td></td>\n",
              "      <td></td>\n",
              "      <td></td>\n",
              "    </tr>\n",
              "    <tr>\n",
              "      <th>2015-01-28</th>\n",
              "      <td>Apple Inc. Readies Its New Music Service to Ch...</td>\n",
              "      <td>70.99</td>\n",
              "      <td>15578410</td>\n",
              "      <td>72.50</td>\n",
              "      <td>72.50</td>\n",
              "      <td>70.85</td>\n",
              "      <td></td>\n",
              "      <td></td>\n",
              "      <td></td>\n",
              "      <td></td>\n",
              "    </tr>\n",
              "    <tr>\n",
              "      <th>2015-01-29</th>\n",
              "      <td>The feature film that blew away everyone  at S...</td>\n",
              "      <td>63.69</td>\n",
              "      <td>47077720</td>\n",
              "      <td>65.51</td>\n",
              "      <td>65.69</td>\n",
              "      <td>62.47</td>\n",
              "      <td></td>\n",
              "      <td></td>\n",
              "      <td></td>\n",
              "      <td></td>\n",
              "    </tr>\n",
              "    <tr>\n",
              "      <th>2015-01-30</th>\n",
              "      <td>Samsung Group (SSNLF) To Mantain Delicate Bala...</td>\n",
              "      <td>62.46</td>\n",
              "      <td>26395180</td>\n",
              "      <td>63.04</td>\n",
              "      <td>64.01</td>\n",
              "      <td>62.39</td>\n",
              "      <td></td>\n",
              "      <td></td>\n",
              "      <td></td>\n",
              "      <td></td>\n",
              "    </tr>\n",
              "  </tbody>\n",
              "</table>\n",
              "</div>"
            ],
            "text/plain": [
              "                                                    Headlines  ...  positive\n",
              "Date                                                           ...          \n",
              "2015-01-20  It Will Be Apple Watch Vs HTC Smart Watch In M...  ...          \n",
              "2015-01-21  Samsung Electronics Co Ltd still pursuing Blac...  ...          \n",
              "2015-01-28  Apple Inc. Readies Its New Music Service to Ch...  ...          \n",
              "2015-01-29  The feature film that blew away everyone  at S...  ...          \n",
              "2015-01-30  Samsung Group (SSNLF) To Mantain Delicate Bala...  ...          \n",
              "\n",
              "[5 rows x 10 columns]"
            ]
          },
          "metadata": {
            "tags": []
          },
          "execution_count": 36
        }
      ]
    },
    {
      "cell_type": "code",
      "metadata": {
        "colab": {
          "base_uri": "https://localhost:8080/"
        },
        "id": "-Vxje1cJ1AS4",
        "outputId": "b8de6a76-50dd-4b8d-fe8b-b2ed4809d26a"
      },
      "source": [
        "import nltk\n",
        "nltk.download('vader_lexicon')"
      ],
      "execution_count": null,
      "outputs": [
        {
          "output_type": "stream",
          "text": [
            "[nltk_data] Downloading package vader_lexicon to /root/nltk_data...\n"
          ],
          "name": "stdout"
        },
        {
          "output_type": "execute_result",
          "data": {
            "text/plain": [
              "True"
            ]
          },
          "metadata": {
            "tags": []
          },
          "execution_count": 37
        }
      ]
    },
    {
      "cell_type": "markdown",
      "metadata": {
        "id": "60kShFMyomVm"
      },
      "source": [
        "NLTK’s built-in Vader Sentiment Analyzer will simply rank a piece of text as positive, negative or neutral using a lexicon of positive and negative words.\n",
        "\n"
      ]
    },
    {
      "cell_type": "code",
      "metadata": {
        "colab": {
          "base_uri": "https://localhost:8080/",
          "height": 287
        },
        "id": "qQnH6UG11EI6",
        "outputId": "e4b8c18a-35bc-4e33-902a-8094f71db376"
      },
      "source": [
        "from nltk.sentiment.vader import SentimentIntensityAnalyzer\n",
        "import unicodedata\n",
        "\n",
        "\n",
        "sid = SentimentIntensityAnalyzer()\n",
        "\n",
        "data['compound'] = data['Headlines'].apply(lambda x: sid.polarity_scores(x)['compound'])\n",
        "data['negative'] = data['Headlines'].apply(lambda x: sid.polarity_scores(x)['neg'])\n",
        "data['neutral'] = data['Headlines'].apply(lambda x: sid.polarity_scores(x)['neu'])\n",
        "data['positive'] = data['Headlines'].apply(lambda x: sid.polarity_scores(x)['pos'])\n",
        "\n",
        "\n",
        "data.head()"
      ],
      "execution_count": null,
      "outputs": [
        {
          "output_type": "stream",
          "text": [
            "/usr/local/lib/python3.7/dist-packages/nltk/twitter/__init__.py:20: UserWarning: The twython library has not been installed. Some functionality from the twitter package will not be available.\n",
            "  warnings.warn(\"The twython library has not been installed. \"\n"
          ],
          "name": "stderr"
        },
        {
          "output_type": "execute_result",
          "data": {
            "text/html": [
              "<div>\n",
              "<style scoped>\n",
              "    .dataframe tbody tr th:only-of-type {\n",
              "        vertical-align: middle;\n",
              "    }\n",
              "\n",
              "    .dataframe tbody tr th {\n",
              "        vertical-align: top;\n",
              "    }\n",
              "\n",
              "    .dataframe thead th {\n",
              "        text-align: right;\n",
              "    }\n",
              "</style>\n",
              "<table border=\"1\" class=\"dataframe\">\n",
              "  <thead>\n",
              "    <tr style=\"text-align: right;\">\n",
              "      <th></th>\n",
              "      <th>Headlines</th>\n",
              "      <th>Close</th>\n",
              "      <th>Volume</th>\n",
              "      <th>Open</th>\n",
              "      <th>High</th>\n",
              "      <th>Low</th>\n",
              "      <th>compound</th>\n",
              "      <th>negative</th>\n",
              "      <th>neutral</th>\n",
              "      <th>positive</th>\n",
              "    </tr>\n",
              "    <tr>\n",
              "      <th>Date</th>\n",
              "      <th></th>\n",
              "      <th></th>\n",
              "      <th></th>\n",
              "      <th></th>\n",
              "      <th></th>\n",
              "      <th></th>\n",
              "      <th></th>\n",
              "      <th></th>\n",
              "      <th></th>\n",
              "      <th></th>\n",
              "    </tr>\n",
              "  </thead>\n",
              "  <tbody>\n",
              "    <tr>\n",
              "      <th>2015-01-20</th>\n",
              "      <td>It Will Be Apple Watch Vs HTC Smart Watch In M...</td>\n",
              "      <td>72.48</td>\n",
              "      <td>11725560</td>\n",
              "      <td>71.75</td>\n",
              "      <td>73.21</td>\n",
              "      <td>71.18</td>\n",
              "      <td>0.8979</td>\n",
              "      <td>0.067</td>\n",
              "      <td>0.851</td>\n",
              "      <td>0.082</td>\n",
              "    </tr>\n",
              "    <tr>\n",
              "      <th>2015-01-21</th>\n",
              "      <td>Samsung Electronics Co Ltd still pursuing Blac...</td>\n",
              "      <td>71.59</td>\n",
              "      <td>16990240</td>\n",
              "      <td>70.28</td>\n",
              "      <td>72.61</td>\n",
              "      <td>69.95</td>\n",
              "      <td>0.9905</td>\n",
              "      <td>0.031</td>\n",
              "      <td>0.871</td>\n",
              "      <td>0.098</td>\n",
              "    </tr>\n",
              "    <tr>\n",
              "      <th>2015-01-28</th>\n",
              "      <td>Apple Inc. Readies Its New Music Service to Ch...</td>\n",
              "      <td>70.99</td>\n",
              "      <td>15578410</td>\n",
              "      <td>72.50</td>\n",
              "      <td>72.50</td>\n",
              "      <td>70.85</td>\n",
              "      <td>0.9984</td>\n",
              "      <td>0.031</td>\n",
              "      <td>0.834</td>\n",
              "      <td>0.135</td>\n",
              "    </tr>\n",
              "    <tr>\n",
              "      <th>2015-01-29</th>\n",
              "      <td>The feature film that blew away everyone  at S...</td>\n",
              "      <td>63.69</td>\n",
              "      <td>47077720</td>\n",
              "      <td>65.51</td>\n",
              "      <td>65.69</td>\n",
              "      <td>62.47</td>\n",
              "      <td>0.9945</td>\n",
              "      <td>0.048</td>\n",
              "      <td>0.845</td>\n",
              "      <td>0.108</td>\n",
              "    </tr>\n",
              "    <tr>\n",
              "      <th>2015-01-30</th>\n",
              "      <td>Samsung Group (SSNLF) To Mantain Delicate Bala...</td>\n",
              "      <td>62.46</td>\n",
              "      <td>26395180</td>\n",
              "      <td>63.04</td>\n",
              "      <td>64.01</td>\n",
              "      <td>62.39</td>\n",
              "      <td>0.9962</td>\n",
              "      <td>0.050</td>\n",
              "      <td>0.800</td>\n",
              "      <td>0.150</td>\n",
              "    </tr>\n",
              "  </tbody>\n",
              "</table>\n",
              "</div>"
            ],
            "text/plain": [
              "                                                    Headlines  ...  positive\n",
              "Date                                                           ...          \n",
              "2015-01-20  It Will Be Apple Watch Vs HTC Smart Watch In M...  ...     0.082\n",
              "2015-01-21  Samsung Electronics Co Ltd still pursuing Blac...  ...     0.098\n",
              "2015-01-28  Apple Inc. Readies Its New Music Service to Ch...  ...     0.135\n",
              "2015-01-29  The feature film that blew away everyone  at S...  ...     0.108\n",
              "2015-01-30  Samsung Group (SSNLF) To Mantain Delicate Bala...  ...     0.150\n",
              "\n",
              "[5 rows x 10 columns]"
            ]
          },
          "metadata": {
            "tags": []
          },
          "execution_count": 38
        }
      ]
    },
    {
      "cell_type": "code",
      "metadata": {
        "colab": {
          "base_uri": "https://localhost:8080/",
          "height": 446
        },
        "id": "yRvRz3_XpS6W",
        "outputId": "14f44454-a055-4adb-94b7-9ac777ddf6b8"
      },
      "source": [
        "data['label'] = 0\n",
        "data.loc[data['compound'] > 0.2, 'label'] = 1\n",
        "data.loc[data['compound'] < -0.2, 'label'] = -1\n",
        "data"
      ],
      "execution_count": null,
      "outputs": [
        {
          "output_type": "execute_result",
          "data": {
            "text/html": [
              "<div>\n",
              "<style scoped>\n",
              "    .dataframe tbody tr th:only-of-type {\n",
              "        vertical-align: middle;\n",
              "    }\n",
              "\n",
              "    .dataframe tbody tr th {\n",
              "        vertical-align: top;\n",
              "    }\n",
              "\n",
              "    .dataframe thead th {\n",
              "        text-align: right;\n",
              "    }\n",
              "</style>\n",
              "<table border=\"1\" class=\"dataframe\">\n",
              "  <thead>\n",
              "    <tr style=\"text-align: right;\">\n",
              "      <th></th>\n",
              "      <th>Headlines</th>\n",
              "      <th>Close</th>\n",
              "      <th>Volume</th>\n",
              "      <th>Open</th>\n",
              "      <th>High</th>\n",
              "      <th>Low</th>\n",
              "      <th>compound</th>\n",
              "      <th>negative</th>\n",
              "      <th>neutral</th>\n",
              "      <th>positive</th>\n",
              "      <th>label</th>\n",
              "    </tr>\n",
              "    <tr>\n",
              "      <th>Date</th>\n",
              "      <th></th>\n",
              "      <th></th>\n",
              "      <th></th>\n",
              "      <th></th>\n",
              "      <th></th>\n",
              "      <th></th>\n",
              "      <th></th>\n",
              "      <th></th>\n",
              "      <th></th>\n",
              "      <th></th>\n",
              "      <th></th>\n",
              "    </tr>\n",
              "  </thead>\n",
              "  <tbody>\n",
              "    <tr>\n",
              "      <th>2015-01-20</th>\n",
              "      <td>It Will Be Apple Watch Vs HTC Smart Watch In M...</td>\n",
              "      <td>72.48</td>\n",
              "      <td>11725560</td>\n",
              "      <td>71.75</td>\n",
              "      <td>73.2100</td>\n",
              "      <td>71.18</td>\n",
              "      <td>0.8979</td>\n",
              "      <td>0.067</td>\n",
              "      <td>0.851</td>\n",
              "      <td>0.082</td>\n",
              "      <td>1</td>\n",
              "    </tr>\n",
              "    <tr>\n",
              "      <th>2015-01-21</th>\n",
              "      <td>Samsung Electronics Co Ltd still pursuing Blac...</td>\n",
              "      <td>71.59</td>\n",
              "      <td>16990240</td>\n",
              "      <td>70.28</td>\n",
              "      <td>72.6100</td>\n",
              "      <td>69.95</td>\n",
              "      <td>0.9905</td>\n",
              "      <td>0.031</td>\n",
              "      <td>0.871</td>\n",
              "      <td>0.098</td>\n",
              "      <td>1</td>\n",
              "    </tr>\n",
              "    <tr>\n",
              "      <th>2015-01-28</th>\n",
              "      <td>Apple Inc. Readies Its New Music Service to Ch...</td>\n",
              "      <td>70.99</td>\n",
              "      <td>15578410</td>\n",
              "      <td>72.50</td>\n",
              "      <td>72.5000</td>\n",
              "      <td>70.85</td>\n",
              "      <td>0.9984</td>\n",
              "      <td>0.031</td>\n",
              "      <td>0.834</td>\n",
              "      <td>0.135</td>\n",
              "      <td>1</td>\n",
              "    </tr>\n",
              "    <tr>\n",
              "      <th>2015-01-29</th>\n",
              "      <td>The feature film that blew away everyone  at S...</td>\n",
              "      <td>63.69</td>\n",
              "      <td>47077720</td>\n",
              "      <td>65.51</td>\n",
              "      <td>65.6900</td>\n",
              "      <td>62.47</td>\n",
              "      <td>0.9945</td>\n",
              "      <td>0.048</td>\n",
              "      <td>0.845</td>\n",
              "      <td>0.108</td>\n",
              "      <td>1</td>\n",
              "    </tr>\n",
              "    <tr>\n",
              "      <th>2015-01-30</th>\n",
              "      <td>Samsung Group (SSNLF) To Mantain Delicate Bala...</td>\n",
              "      <td>62.46</td>\n",
              "      <td>26395180</td>\n",
              "      <td>63.04</td>\n",
              "      <td>64.0100</td>\n",
              "      <td>62.39</td>\n",
              "      <td>0.9962</td>\n",
              "      <td>0.050</td>\n",
              "      <td>0.800</td>\n",
              "      <td>0.150</td>\n",
              "      <td>1</td>\n",
              "    </tr>\n",
              "    <tr>\n",
              "      <th>...</th>\n",
              "      <td>...</td>\n",
              "      <td>...</td>\n",
              "      <td>...</td>\n",
              "      <td>...</td>\n",
              "      <td>...</td>\n",
              "      <td>...</td>\n",
              "      <td>...</td>\n",
              "      <td>...</td>\n",
              "      <td>...</td>\n",
              "      <td>...</td>\n",
              "      <td>...</td>\n",
              "    </tr>\n",
              "    <tr>\n",
              "      <th>2021-04-28</th>\n",
              "      <td>Apple profit soars in latest quarter on higher...</td>\n",
              "      <td>136.57</td>\n",
              "      <td>13118140</td>\n",
              "      <td>138.17</td>\n",
              "      <td>138.2731</td>\n",
              "      <td>135.75</td>\n",
              "      <td>0.9988</td>\n",
              "      <td>0.043</td>\n",
              "      <td>0.822</td>\n",
              "      <td>0.134</td>\n",
              "      <td>1</td>\n",
              "    </tr>\n",
              "    <tr>\n",
              "      <th>2021-04-29</th>\n",
              "      <td>Apple (NASDAQ:AAPL) Posts  Earnings Results, B...</td>\n",
              "      <td>142.68</td>\n",
              "      <td>20502140</td>\n",
              "      <td>145.01</td>\n",
              "      <td>145.2965</td>\n",
              "      <td>140.67</td>\n",
              "      <td>0.9980</td>\n",
              "      <td>0.065</td>\n",
              "      <td>0.810</td>\n",
              "      <td>0.125</td>\n",
              "      <td>1</td>\n",
              "    </tr>\n",
              "    <tr>\n",
              "      <th>2021-05-03</th>\n",
              "      <td>2 Cheap Stocks Under $25 to Buy that Shrugged ...</td>\n",
              "      <td>137.43</td>\n",
              "      <td>7920307</td>\n",
              "      <td>139.70</td>\n",
              "      <td>139.7600</td>\n",
              "      <td>136.87</td>\n",
              "      <td>0.9926</td>\n",
              "      <td>0.039</td>\n",
              "      <td>0.850</td>\n",
              "      <td>0.111</td>\n",
              "      <td>1</td>\n",
              "    </tr>\n",
              "    <tr>\n",
              "      <th>2021-05-14</th>\n",
              "      <td>US stocks surge in recovery; dollar, bond yiel...</td>\n",
              "      <td>130.15</td>\n",
              "      <td>9391122</td>\n",
              "      <td>128.63</td>\n",
              "      <td>131.4200</td>\n",
              "      <td>127.81</td>\n",
              "      <td>0.9877</td>\n",
              "      <td>0.075</td>\n",
              "      <td>0.822</td>\n",
              "      <td>0.103</td>\n",
              "      <td>1</td>\n",
              "    </tr>\n",
              "    <tr>\n",
              "      <th>2021-05-21</th>\n",
              "      <td>Apple App Store profits look &amp;quot;disproporti...</td>\n",
              "      <td>131.46</td>\n",
              "      <td>8673957</td>\n",
              "      <td>132.14</td>\n",
              "      <td>132.6897</td>\n",
              "      <td>130.49</td>\n",
              "      <td>0.9798</td>\n",
              "      <td>0.079</td>\n",
              "      <td>0.814</td>\n",
              "      <td>0.107</td>\n",
              "      <td>1</td>\n",
              "    </tr>\n",
              "  </tbody>\n",
              "</table>\n",
              "<p>584 rows × 11 columns</p>\n",
              "</div>"
            ],
            "text/plain": [
              "                                                    Headlines  ...  label\n",
              "Date                                                           ...       \n",
              "2015-01-20  It Will Be Apple Watch Vs HTC Smart Watch In M...  ...      1\n",
              "2015-01-21  Samsung Electronics Co Ltd still pursuing Blac...  ...      1\n",
              "2015-01-28  Apple Inc. Readies Its New Music Service to Ch...  ...      1\n",
              "2015-01-29  The feature film that blew away everyone  at S...  ...      1\n",
              "2015-01-30  Samsung Group (SSNLF) To Mantain Delicate Bala...  ...      1\n",
              "...                                                       ...  ...    ...\n",
              "2021-04-28  Apple profit soars in latest quarter on higher...  ...      1\n",
              "2021-04-29  Apple (NASDAQ:AAPL) Posts  Earnings Results, B...  ...      1\n",
              "2021-05-03  2 Cheap Stocks Under $25 to Buy that Shrugged ...  ...      1\n",
              "2021-05-14  US stocks surge in recovery; dollar, bond yiel...  ...      1\n",
              "2021-05-21  Apple App Store profits look &quot;disproporti...  ...      1\n",
              "\n",
              "[584 rows x 11 columns]"
            ]
          },
          "metadata": {
            "tags": []
          },
          "execution_count": 39
        }
      ]
    },
    {
      "cell_type": "code",
      "metadata": {
        "colab": {
          "base_uri": "https://localhost:8080/",
          "height": 446
        },
        "id": "z26Ebsy1q1RB",
        "outputId": "6512b480-2d3e-4f53-e22a-00d7a58b5a5a"
      },
      "source": [
        "data.drop(['label'], axis = 1)"
      ],
      "execution_count": null,
      "outputs": [
        {
          "output_type": "execute_result",
          "data": {
            "text/html": [
              "<div>\n",
              "<style scoped>\n",
              "    .dataframe tbody tr th:only-of-type {\n",
              "        vertical-align: middle;\n",
              "    }\n",
              "\n",
              "    .dataframe tbody tr th {\n",
              "        vertical-align: top;\n",
              "    }\n",
              "\n",
              "    .dataframe thead th {\n",
              "        text-align: right;\n",
              "    }\n",
              "</style>\n",
              "<table border=\"1\" class=\"dataframe\">\n",
              "  <thead>\n",
              "    <tr style=\"text-align: right;\">\n",
              "      <th></th>\n",
              "      <th>Headlines</th>\n",
              "      <th>Close</th>\n",
              "      <th>Volume</th>\n",
              "      <th>Open</th>\n",
              "      <th>High</th>\n",
              "      <th>Low</th>\n",
              "      <th>compound</th>\n",
              "      <th>negative</th>\n",
              "      <th>neutral</th>\n",
              "      <th>positive</th>\n",
              "    </tr>\n",
              "    <tr>\n",
              "      <th>Date</th>\n",
              "      <th></th>\n",
              "      <th></th>\n",
              "      <th></th>\n",
              "      <th></th>\n",
              "      <th></th>\n",
              "      <th></th>\n",
              "      <th></th>\n",
              "      <th></th>\n",
              "      <th></th>\n",
              "      <th></th>\n",
              "    </tr>\n",
              "  </thead>\n",
              "  <tbody>\n",
              "    <tr>\n",
              "      <th>2015-01-20</th>\n",
              "      <td>It Will Be Apple Watch Vs HTC Smart Watch In M...</td>\n",
              "      <td>72.48</td>\n",
              "      <td>11725560</td>\n",
              "      <td>71.75</td>\n",
              "      <td>73.2100</td>\n",
              "      <td>71.18</td>\n",
              "      <td>0.8979</td>\n",
              "      <td>0.067</td>\n",
              "      <td>0.851</td>\n",
              "      <td>0.082</td>\n",
              "    </tr>\n",
              "    <tr>\n",
              "      <th>2015-01-21</th>\n",
              "      <td>Samsung Electronics Co Ltd still pursuing Blac...</td>\n",
              "      <td>71.59</td>\n",
              "      <td>16990240</td>\n",
              "      <td>70.28</td>\n",
              "      <td>72.6100</td>\n",
              "      <td>69.95</td>\n",
              "      <td>0.9905</td>\n",
              "      <td>0.031</td>\n",
              "      <td>0.871</td>\n",
              "      <td>0.098</td>\n",
              "    </tr>\n",
              "    <tr>\n",
              "      <th>2015-01-28</th>\n",
              "      <td>Apple Inc. Readies Its New Music Service to Ch...</td>\n",
              "      <td>70.99</td>\n",
              "      <td>15578410</td>\n",
              "      <td>72.50</td>\n",
              "      <td>72.5000</td>\n",
              "      <td>70.85</td>\n",
              "      <td>0.9984</td>\n",
              "      <td>0.031</td>\n",
              "      <td>0.834</td>\n",
              "      <td>0.135</td>\n",
              "    </tr>\n",
              "    <tr>\n",
              "      <th>2015-01-29</th>\n",
              "      <td>The feature film that blew away everyone  at S...</td>\n",
              "      <td>63.69</td>\n",
              "      <td>47077720</td>\n",
              "      <td>65.51</td>\n",
              "      <td>65.6900</td>\n",
              "      <td>62.47</td>\n",
              "      <td>0.9945</td>\n",
              "      <td>0.048</td>\n",
              "      <td>0.845</td>\n",
              "      <td>0.108</td>\n",
              "    </tr>\n",
              "    <tr>\n",
              "      <th>2015-01-30</th>\n",
              "      <td>Samsung Group (SSNLF) To Mantain Delicate Bala...</td>\n",
              "      <td>62.46</td>\n",
              "      <td>26395180</td>\n",
              "      <td>63.04</td>\n",
              "      <td>64.0100</td>\n",
              "      <td>62.39</td>\n",
              "      <td>0.9962</td>\n",
              "      <td>0.050</td>\n",
              "      <td>0.800</td>\n",
              "      <td>0.150</td>\n",
              "    </tr>\n",
              "    <tr>\n",
              "      <th>...</th>\n",
              "      <td>...</td>\n",
              "      <td>...</td>\n",
              "      <td>...</td>\n",
              "      <td>...</td>\n",
              "      <td>...</td>\n",
              "      <td>...</td>\n",
              "      <td>...</td>\n",
              "      <td>...</td>\n",
              "      <td>...</td>\n",
              "      <td>...</td>\n",
              "    </tr>\n",
              "    <tr>\n",
              "      <th>2021-04-28</th>\n",
              "      <td>Apple profit soars in latest quarter on higher...</td>\n",
              "      <td>136.57</td>\n",
              "      <td>13118140</td>\n",
              "      <td>138.17</td>\n",
              "      <td>138.2731</td>\n",
              "      <td>135.75</td>\n",
              "      <td>0.9988</td>\n",
              "      <td>0.043</td>\n",
              "      <td>0.822</td>\n",
              "      <td>0.134</td>\n",
              "    </tr>\n",
              "    <tr>\n",
              "      <th>2021-04-29</th>\n",
              "      <td>Apple (NASDAQ:AAPL) Posts  Earnings Results, B...</td>\n",
              "      <td>142.68</td>\n",
              "      <td>20502140</td>\n",
              "      <td>145.01</td>\n",
              "      <td>145.2965</td>\n",
              "      <td>140.67</td>\n",
              "      <td>0.9980</td>\n",
              "      <td>0.065</td>\n",
              "      <td>0.810</td>\n",
              "      <td>0.125</td>\n",
              "    </tr>\n",
              "    <tr>\n",
              "      <th>2021-05-03</th>\n",
              "      <td>2 Cheap Stocks Under $25 to Buy that Shrugged ...</td>\n",
              "      <td>137.43</td>\n",
              "      <td>7920307</td>\n",
              "      <td>139.70</td>\n",
              "      <td>139.7600</td>\n",
              "      <td>136.87</td>\n",
              "      <td>0.9926</td>\n",
              "      <td>0.039</td>\n",
              "      <td>0.850</td>\n",
              "      <td>0.111</td>\n",
              "    </tr>\n",
              "    <tr>\n",
              "      <th>2021-05-14</th>\n",
              "      <td>US stocks surge in recovery; dollar, bond yiel...</td>\n",
              "      <td>130.15</td>\n",
              "      <td>9391122</td>\n",
              "      <td>128.63</td>\n",
              "      <td>131.4200</td>\n",
              "      <td>127.81</td>\n",
              "      <td>0.9877</td>\n",
              "      <td>0.075</td>\n",
              "      <td>0.822</td>\n",
              "      <td>0.103</td>\n",
              "    </tr>\n",
              "    <tr>\n",
              "      <th>2021-05-21</th>\n",
              "      <td>Apple App Store profits look &amp;quot;disproporti...</td>\n",
              "      <td>131.46</td>\n",
              "      <td>8673957</td>\n",
              "      <td>132.14</td>\n",
              "      <td>132.6897</td>\n",
              "      <td>130.49</td>\n",
              "      <td>0.9798</td>\n",
              "      <td>0.079</td>\n",
              "      <td>0.814</td>\n",
              "      <td>0.107</td>\n",
              "    </tr>\n",
              "  </tbody>\n",
              "</table>\n",
              "<p>584 rows × 10 columns</p>\n",
              "</div>"
            ],
            "text/plain": [
              "                                                    Headlines  ...  positive\n",
              "Date                                                           ...          \n",
              "2015-01-20  It Will Be Apple Watch Vs HTC Smart Watch In M...  ...     0.082\n",
              "2015-01-21  Samsung Electronics Co Ltd still pursuing Blac...  ...     0.098\n",
              "2015-01-28  Apple Inc. Readies Its New Music Service to Ch...  ...     0.135\n",
              "2015-01-29  The feature film that blew away everyone  at S...  ...     0.108\n",
              "2015-01-30  Samsung Group (SSNLF) To Mantain Delicate Bala...  ...     0.150\n",
              "...                                                       ...  ...       ...\n",
              "2021-04-28  Apple profit soars in latest quarter on higher...  ...     0.134\n",
              "2021-04-29  Apple (NASDAQ:AAPL) Posts  Earnings Results, B...  ...     0.125\n",
              "2021-05-03  2 Cheap Stocks Under $25 to Buy that Shrugged ...  ...     0.111\n",
              "2021-05-14  US stocks surge in recovery; dollar, bond yiel...  ...     0.103\n",
              "2021-05-21  Apple App Store profits look &quot;disproporti...  ...     0.107\n",
              "\n",
              "[584 rows x 10 columns]"
            ]
          },
          "metadata": {
            "tags": []
          },
          "execution_count": 40
        }
      ]
    },
    {
      "cell_type": "code",
      "metadata": {
        "colab": {
          "base_uri": "https://localhost:8080/"
        },
        "id": "oVROHGz11IKz",
        "outputId": "50871826-36f7-47f2-aeb0-c08faf0d8dd9"
      },
      "source": [
        "data.columns"
      ],
      "execution_count": null,
      "outputs": [
        {
          "output_type": "execute_result",
          "data": {
            "text/plain": [
              "Index(['Headlines', 'Close', 'Volume', 'Open', 'High', 'Low', 'compound',\n",
              "       'negative', 'neutral', 'positive', 'label'],\n",
              "      dtype='object')"
            ]
          },
          "metadata": {
            "tags": []
          },
          "execution_count": 41
        }
      ]
    },
    {
      "cell_type": "code",
      "metadata": {
        "colab": {
          "base_uri": "https://localhost:8080/",
          "height": 233
        },
        "id": "qlEs3QFj1QcG",
        "outputId": "efe57196-269d-44fc-ec99-d1d4a934e1f6"
      },
      "source": [
        "data = data[['Close', 'compound', 'negative', 'neutral', 'positive', 'Open', 'High', 'Low', 'Volume']]\n",
        "\n",
        "data.head()"
      ],
      "execution_count": null,
      "outputs": [
        {
          "output_type": "execute_result",
          "data": {
            "text/html": [
              "<div>\n",
              "<style scoped>\n",
              "    .dataframe tbody tr th:only-of-type {\n",
              "        vertical-align: middle;\n",
              "    }\n",
              "\n",
              "    .dataframe tbody tr th {\n",
              "        vertical-align: top;\n",
              "    }\n",
              "\n",
              "    .dataframe thead th {\n",
              "        text-align: right;\n",
              "    }\n",
              "</style>\n",
              "<table border=\"1\" class=\"dataframe\">\n",
              "  <thead>\n",
              "    <tr style=\"text-align: right;\">\n",
              "      <th></th>\n",
              "      <th>Close</th>\n",
              "      <th>compound</th>\n",
              "      <th>negative</th>\n",
              "      <th>neutral</th>\n",
              "      <th>positive</th>\n",
              "      <th>Open</th>\n",
              "      <th>High</th>\n",
              "      <th>Low</th>\n",
              "      <th>Volume</th>\n",
              "    </tr>\n",
              "    <tr>\n",
              "      <th>Date</th>\n",
              "      <th></th>\n",
              "      <th></th>\n",
              "      <th></th>\n",
              "      <th></th>\n",
              "      <th></th>\n",
              "      <th></th>\n",
              "      <th></th>\n",
              "      <th></th>\n",
              "      <th></th>\n",
              "    </tr>\n",
              "  </thead>\n",
              "  <tbody>\n",
              "    <tr>\n",
              "      <th>2015-01-20</th>\n",
              "      <td>72.48</td>\n",
              "      <td>0.8979</td>\n",
              "      <td>0.067</td>\n",
              "      <td>0.851</td>\n",
              "      <td>0.082</td>\n",
              "      <td>71.75</td>\n",
              "      <td>73.21</td>\n",
              "      <td>71.18</td>\n",
              "      <td>11725560</td>\n",
              "    </tr>\n",
              "    <tr>\n",
              "      <th>2015-01-21</th>\n",
              "      <td>71.59</td>\n",
              "      <td>0.9905</td>\n",
              "      <td>0.031</td>\n",
              "      <td>0.871</td>\n",
              "      <td>0.098</td>\n",
              "      <td>70.28</td>\n",
              "      <td>72.61</td>\n",
              "      <td>69.95</td>\n",
              "      <td>16990240</td>\n",
              "    </tr>\n",
              "    <tr>\n",
              "      <th>2015-01-28</th>\n",
              "      <td>70.99</td>\n",
              "      <td>0.9984</td>\n",
              "      <td>0.031</td>\n",
              "      <td>0.834</td>\n",
              "      <td>0.135</td>\n",
              "      <td>72.50</td>\n",
              "      <td>72.50</td>\n",
              "      <td>70.85</td>\n",
              "      <td>15578410</td>\n",
              "    </tr>\n",
              "    <tr>\n",
              "      <th>2015-01-29</th>\n",
              "      <td>63.69</td>\n",
              "      <td>0.9945</td>\n",
              "      <td>0.048</td>\n",
              "      <td>0.845</td>\n",
              "      <td>0.108</td>\n",
              "      <td>65.51</td>\n",
              "      <td>65.69</td>\n",
              "      <td>62.47</td>\n",
              "      <td>47077720</td>\n",
              "    </tr>\n",
              "    <tr>\n",
              "      <th>2015-01-30</th>\n",
              "      <td>62.46</td>\n",
              "      <td>0.9962</td>\n",
              "      <td>0.050</td>\n",
              "      <td>0.800</td>\n",
              "      <td>0.150</td>\n",
              "      <td>63.04</td>\n",
              "      <td>64.01</td>\n",
              "      <td>62.39</td>\n",
              "      <td>26395180</td>\n",
              "    </tr>\n",
              "  </tbody>\n",
              "</table>\n",
              "</div>"
            ],
            "text/plain": [
              "            Close  compound  negative  neutral  ...   Open   High    Low    Volume\n",
              "Date                                            ...                               \n",
              "2015-01-20  72.48    0.8979     0.067    0.851  ...  71.75  73.21  71.18  11725560\n",
              "2015-01-21  71.59    0.9905     0.031    0.871  ...  70.28  72.61  69.95  16990240\n",
              "2015-01-28  70.99    0.9984     0.031    0.834  ...  72.50  72.50  70.85  15578410\n",
              "2015-01-29  63.69    0.9945     0.048    0.845  ...  65.51  65.69  62.47  47077720\n",
              "2015-01-30  62.46    0.9962     0.050    0.800  ...  63.04  64.01  62.39  26395180\n",
              "\n",
              "[5 rows x 9 columns]"
            ]
          },
          "metadata": {
            "tags": []
          },
          "execution_count": 42
        }
      ]
    },
    {
      "cell_type": "code",
      "metadata": {
        "id": "21umYxy01UZW"
      },
      "source": [
        "stockdata=data.to_csv('stockdata.csv')"
      ],
      "execution_count": null,
      "outputs": []
    },
    {
      "cell_type": "code",
      "metadata": {
        "colab": {
          "base_uri": "https://localhost:8080/",
          "height": 233
        },
        "id": "tEfV_wtfG-dU",
        "outputId": "f6869db9-c091-4bd5-f234-9441073844bc"
      },
      "source": [
        "stockdata = pd.read_csv('stockdata.csv', index_col = False)\n",
        "\n",
        "stockdata.rename(columns={'Unnamed: 0':'Date'}, inplace = True)\n",
        "\n",
        "stockdata.set_index('Date', inplace=True)\n",
        "\n",
        "stockdata.head()"
      ],
      "execution_count": null,
      "outputs": [
        {
          "output_type": "execute_result",
          "data": {
            "text/html": [
              "<div>\n",
              "<style scoped>\n",
              "    .dataframe tbody tr th:only-of-type {\n",
              "        vertical-align: middle;\n",
              "    }\n",
              "\n",
              "    .dataframe tbody tr th {\n",
              "        vertical-align: top;\n",
              "    }\n",
              "\n",
              "    .dataframe thead th {\n",
              "        text-align: right;\n",
              "    }\n",
              "</style>\n",
              "<table border=\"1\" class=\"dataframe\">\n",
              "  <thead>\n",
              "    <tr style=\"text-align: right;\">\n",
              "      <th></th>\n",
              "      <th>Close</th>\n",
              "      <th>compound</th>\n",
              "      <th>negative</th>\n",
              "      <th>neutral</th>\n",
              "      <th>positive</th>\n",
              "      <th>Open</th>\n",
              "      <th>High</th>\n",
              "      <th>Low</th>\n",
              "      <th>Volume</th>\n",
              "    </tr>\n",
              "    <tr>\n",
              "      <th>Date</th>\n",
              "      <th></th>\n",
              "      <th></th>\n",
              "      <th></th>\n",
              "      <th></th>\n",
              "      <th></th>\n",
              "      <th></th>\n",
              "      <th></th>\n",
              "      <th></th>\n",
              "      <th></th>\n",
              "    </tr>\n",
              "  </thead>\n",
              "  <tbody>\n",
              "    <tr>\n",
              "      <th>2015-01-20</th>\n",
              "      <td>72.48</td>\n",
              "      <td>0.8979</td>\n",
              "      <td>0.067</td>\n",
              "      <td>0.851</td>\n",
              "      <td>0.082</td>\n",
              "      <td>71.75</td>\n",
              "      <td>73.21</td>\n",
              "      <td>71.18</td>\n",
              "      <td>11725560</td>\n",
              "    </tr>\n",
              "    <tr>\n",
              "      <th>2015-01-21</th>\n",
              "      <td>71.59</td>\n",
              "      <td>0.9905</td>\n",
              "      <td>0.031</td>\n",
              "      <td>0.871</td>\n",
              "      <td>0.098</td>\n",
              "      <td>70.28</td>\n",
              "      <td>72.61</td>\n",
              "      <td>69.95</td>\n",
              "      <td>16990240</td>\n",
              "    </tr>\n",
              "    <tr>\n",
              "      <th>2015-01-28</th>\n",
              "      <td>70.99</td>\n",
              "      <td>0.9984</td>\n",
              "      <td>0.031</td>\n",
              "      <td>0.834</td>\n",
              "      <td>0.135</td>\n",
              "      <td>72.50</td>\n",
              "      <td>72.50</td>\n",
              "      <td>70.85</td>\n",
              "      <td>15578410</td>\n",
              "    </tr>\n",
              "    <tr>\n",
              "      <th>2015-01-29</th>\n",
              "      <td>63.69</td>\n",
              "      <td>0.9945</td>\n",
              "      <td>0.048</td>\n",
              "      <td>0.845</td>\n",
              "      <td>0.108</td>\n",
              "      <td>65.51</td>\n",
              "      <td>65.69</td>\n",
              "      <td>62.47</td>\n",
              "      <td>47077720</td>\n",
              "    </tr>\n",
              "    <tr>\n",
              "      <th>2015-01-30</th>\n",
              "      <td>62.46</td>\n",
              "      <td>0.9962</td>\n",
              "      <td>0.050</td>\n",
              "      <td>0.800</td>\n",
              "      <td>0.150</td>\n",
              "      <td>63.04</td>\n",
              "      <td>64.01</td>\n",
              "      <td>62.39</td>\n",
              "      <td>26395180</td>\n",
              "    </tr>\n",
              "  </tbody>\n",
              "</table>\n",
              "</div>"
            ],
            "text/plain": [
              "            Close  compound  negative  neutral  ...   Open   High    Low    Volume\n",
              "Date                                            ...                               \n",
              "2015-01-20  72.48    0.8979     0.067    0.851  ...  71.75  73.21  71.18  11725560\n",
              "2015-01-21  71.59    0.9905     0.031    0.871  ...  70.28  72.61  69.95  16990240\n",
              "2015-01-28  70.99    0.9984     0.031    0.834  ...  72.50  72.50  70.85  15578410\n",
              "2015-01-29  63.69    0.9945     0.048    0.845  ...  65.51  65.69  62.47  47077720\n",
              "2015-01-30  62.46    0.9962     0.050    0.800  ...  63.04  64.01  62.39  26395180\n",
              "\n",
              "[5 rows x 9 columns]"
            ]
          },
          "metadata": {
            "tags": []
          },
          "execution_count": 44
        }
      ]
    },
    {
      "cell_type": "code",
      "metadata": {
        "colab": {
          "base_uri": "https://localhost:8080/"
        },
        "id": "yw9YENnGHStY",
        "outputId": "1bb6fb38-1c5c-4e6a-c9f5-c7d467a5bd39"
      },
      "source": [
        "stockdata.shape"
      ],
      "execution_count": null,
      "outputs": [
        {
          "output_type": "execute_result",
          "data": {
            "text/plain": [
              "(584, 9)"
            ]
          },
          "metadata": {
            "tags": []
          },
          "execution_count": 45
        }
      ]
    },
    {
      "cell_type": "code",
      "metadata": {
        "colab": {
          "base_uri": "https://localhost:8080/"
        },
        "id": "dNQrKaByHYDF",
        "outputId": "c3f562ba-d435-4545-e9e2-06a75ccb11b8"
      },
      "source": [
        "stockdata.isna().any()"
      ],
      "execution_count": null,
      "outputs": [
        {
          "output_type": "execute_result",
          "data": {
            "text/plain": [
              "Close       False\n",
              "compound    False\n",
              "negative    False\n",
              "neutral     False\n",
              "positive    False\n",
              "Open        False\n",
              "High        False\n",
              "Low         False\n",
              "Volume      False\n",
              "dtype: bool"
            ]
          },
          "metadata": {
            "tags": []
          },
          "execution_count": 46
        }
      ]
    },
    {
      "cell_type": "code",
      "metadata": {
        "colab": {
          "base_uri": "https://localhost:8080/",
          "height": 294
        },
        "id": "BtVEC3Q_HmeX",
        "outputId": "7160b6b0-070a-49e0-cd5c-4215f2adad1f"
      },
      "source": [
        "stockdata.describe(include='all')"
      ],
      "execution_count": null,
      "outputs": [
        {
          "output_type": "execute_result",
          "data": {
            "text/html": [
              "<div>\n",
              "<style scoped>\n",
              "    .dataframe tbody tr th:only-of-type {\n",
              "        vertical-align: middle;\n",
              "    }\n",
              "\n",
              "    .dataframe tbody tr th {\n",
              "        vertical-align: top;\n",
              "    }\n",
              "\n",
              "    .dataframe thead th {\n",
              "        text-align: right;\n",
              "    }\n",
              "</style>\n",
              "<table border=\"1\" class=\"dataframe\">\n",
              "  <thead>\n",
              "    <tr style=\"text-align: right;\">\n",
              "      <th></th>\n",
              "      <th>Close</th>\n",
              "      <th>compound</th>\n",
              "      <th>negative</th>\n",
              "      <th>neutral</th>\n",
              "      <th>positive</th>\n",
              "      <th>Open</th>\n",
              "      <th>High</th>\n",
              "      <th>Low</th>\n",
              "      <th>Volume</th>\n",
              "    </tr>\n",
              "  </thead>\n",
              "  <tbody>\n",
              "    <tr>\n",
              "      <th>count</th>\n",
              "      <td>584.000000</td>\n",
              "      <td>584.000000</td>\n",
              "      <td>584.000000</td>\n",
              "      <td>584.000000</td>\n",
              "      <td>584.000000</td>\n",
              "      <td>584.000000</td>\n",
              "      <td>584.000000</td>\n",
              "      <td>584.000000</td>\n",
              "      <td>5.840000e+02</td>\n",
              "    </tr>\n",
              "    <tr>\n",
              "      <th>mean</th>\n",
              "      <td>67.510736</td>\n",
              "      <td>0.658733</td>\n",
              "      <td>0.059315</td>\n",
              "      <td>0.839613</td>\n",
              "      <td>0.101098</td>\n",
              "      <td>67.564268</td>\n",
              "      <td>68.336015</td>\n",
              "      <td>66.738306</td>\n",
              "      <td>1.307141e+07</td>\n",
              "    </tr>\n",
              "    <tr>\n",
              "      <th>std</th>\n",
              "      <td>21.293442</td>\n",
              "      <td>0.666480</td>\n",
              "      <td>0.028063</td>\n",
              "      <td>0.035549</td>\n",
              "      <td>0.028972</td>\n",
              "      <td>21.320232</td>\n",
              "      <td>21.629966</td>\n",
              "      <td>20.959987</td>\n",
              "      <td>1.113179e+07</td>\n",
              "    </tr>\n",
              "    <tr>\n",
              "      <th>min</th>\n",
              "      <td>43.000000</td>\n",
              "      <td>-0.999500</td>\n",
              "      <td>0.000000</td>\n",
              "      <td>0.697000</td>\n",
              "      <td>0.035000</td>\n",
              "      <td>42.510000</td>\n",
              "      <td>43.290000</td>\n",
              "      <td>42.240000</td>\n",
              "      <td>2.435244e+06</td>\n",
              "    </tr>\n",
              "    <tr>\n",
              "      <th>25%</th>\n",
              "      <td>54.972500</td>\n",
              "      <td>0.857700</td>\n",
              "      <td>0.040000</td>\n",
              "      <td>0.818000</td>\n",
              "      <td>0.080000</td>\n",
              "      <td>55.037500</td>\n",
              "      <td>55.515000</td>\n",
              "      <td>54.530000</td>\n",
              "      <td>7.539116e+06</td>\n",
              "    </tr>\n",
              "    <tr>\n",
              "      <th>50%</th>\n",
              "      <td>62.125000</td>\n",
              "      <td>0.981000</td>\n",
              "      <td>0.055000</td>\n",
              "      <td>0.842500</td>\n",
              "      <td>0.099000</td>\n",
              "      <td>61.855000</td>\n",
              "      <td>62.465000</td>\n",
              "      <td>61.342500</td>\n",
              "      <td>1.030630e+07</td>\n",
              "    </tr>\n",
              "    <tr>\n",
              "      <th>75%</th>\n",
              "      <td>70.157500</td>\n",
              "      <td>0.993500</td>\n",
              "      <td>0.072000</td>\n",
              "      <td>0.864000</td>\n",
              "      <td>0.119000</td>\n",
              "      <td>69.977500</td>\n",
              "      <td>71.382475</td>\n",
              "      <td>69.227500</td>\n",
              "      <td>1.429837e+07</td>\n",
              "    </tr>\n",
              "    <tr>\n",
              "      <th>max</th>\n",
              "      <td>164.750000</td>\n",
              "      <td>0.999600</td>\n",
              "      <td>0.236000</td>\n",
              "      <td>0.951000</td>\n",
              "      <td>0.207000</td>\n",
              "      <td>165.805000</td>\n",
              "      <td>167.045000</td>\n",
              "      <td>163.340000</td>\n",
              "      <td>1.559539e+08</td>\n",
              "    </tr>\n",
              "  </tbody>\n",
              "</table>\n",
              "</div>"
            ],
            "text/plain": [
              "            Close    compound    negative  ...        High         Low        Volume\n",
              "count  584.000000  584.000000  584.000000  ...  584.000000  584.000000  5.840000e+02\n",
              "mean    67.510736    0.658733    0.059315  ...   68.336015   66.738306  1.307141e+07\n",
              "std     21.293442    0.666480    0.028063  ...   21.629966   20.959987  1.113179e+07\n",
              "min     43.000000   -0.999500    0.000000  ...   43.290000   42.240000  2.435244e+06\n",
              "25%     54.972500    0.857700    0.040000  ...   55.515000   54.530000  7.539116e+06\n",
              "50%     62.125000    0.981000    0.055000  ...   62.465000   61.342500  1.030630e+07\n",
              "75%     70.157500    0.993500    0.072000  ...   71.382475   69.227500  1.429837e+07\n",
              "max    164.750000    0.999600    0.236000  ...  167.045000  163.340000  1.559539e+08\n",
              "\n",
              "[8 rows x 9 columns]"
            ]
          },
          "metadata": {
            "tags": []
          },
          "execution_count": 47
        }
      ]
    },
    {
      "cell_type": "code",
      "metadata": {
        "colab": {
          "base_uri": "https://localhost:8080/"
        },
        "id": "8ABjCOhkHpgq",
        "outputId": "814edb00-c399-4c25-e86f-c48bb3f30c6c"
      },
      "source": [
        "stockdata.info()"
      ],
      "execution_count": null,
      "outputs": [
        {
          "output_type": "stream",
          "text": [
            "<class 'pandas.core.frame.DataFrame'>\n",
            "Index: 584 entries, 2015-01-20 to 2021-05-21\n",
            "Data columns (total 9 columns):\n",
            " #   Column    Non-Null Count  Dtype  \n",
            "---  ------    --------------  -----  \n",
            " 0   Close     584 non-null    float64\n",
            " 1   compound  584 non-null    float64\n",
            " 2   negative  584 non-null    float64\n",
            " 3   neutral   584 non-null    float64\n",
            " 4   positive  584 non-null    float64\n",
            " 5   Open      584 non-null    float64\n",
            " 6   High      584 non-null    float64\n",
            " 7   Low       584 non-null    float64\n",
            " 8   Volume    584 non-null    int64  \n",
            "dtypes: float64(8), int64(1)\n",
            "memory usage: 45.6+ KB\n"
          ],
          "name": "stdout"
        }
      ]
    },
    {
      "cell_type": "code",
      "metadata": {
        "colab": {
          "base_uri": "https://localhost:8080/"
        },
        "id": "axmHFK12Hshy",
        "outputId": "2ff145f9-655c-4e7a-e999-64d613240625"
      },
      "source": [
        "close_price = stockdata.iloc[:,0] \n",
        "print(\"Close Price:\")\n",
        "close_price"
      ],
      "execution_count": null,
      "outputs": [
        {
          "output_type": "stream",
          "text": [
            "Close Price:\n"
          ],
          "name": "stdout"
        },
        {
          "output_type": "execute_result",
          "data": {
            "text/plain": [
              "Date\n",
              "2015-01-20     72.48\n",
              "2015-01-21     71.59\n",
              "2015-01-28     70.99\n",
              "2015-01-29     63.69\n",
              "2015-01-30     62.46\n",
              "               ...  \n",
              "2021-04-28    136.57\n",
              "2021-04-29    142.68\n",
              "2021-05-03    137.43\n",
              "2021-05-14    130.15\n",
              "2021-05-21    131.46\n",
              "Name: Close, Length: 584, dtype: float64"
            ]
          },
          "metadata": {
            "tags": []
          },
          "execution_count": 49
        }
      ]
    },
    {
      "cell_type": "code",
      "metadata": {
        "colab": {
          "base_uri": "https://localhost:8080/",
          "height": 387
        },
        "id": "IZ8G8fH3HyJ1",
        "outputId": "f63d0372-e862-4be9-998c-1b9c3ab37d3d"
      },
      "source": [
        "need_data = pd.concat([close_price], axis=1)\n",
        "need_data.columns = ['close_price']  \n",
        "need_data.tail(10)"
      ],
      "execution_count": null,
      "outputs": [
        {
          "output_type": "execute_result",
          "data": {
            "text/html": [
              "<div>\n",
              "<style scoped>\n",
              "    .dataframe tbody tr th:only-of-type {\n",
              "        vertical-align: middle;\n",
              "    }\n",
              "\n",
              "    .dataframe tbody tr th {\n",
              "        vertical-align: top;\n",
              "    }\n",
              "\n",
              "    .dataframe thead th {\n",
              "        text-align: right;\n",
              "    }\n",
              "</style>\n",
              "<table border=\"1\" class=\"dataframe\">\n",
              "  <thead>\n",
              "    <tr style=\"text-align: right;\">\n",
              "      <th></th>\n",
              "      <th>close_price</th>\n",
              "    </tr>\n",
              "    <tr>\n",
              "      <th>Date</th>\n",
              "      <th></th>\n",
              "    </tr>\n",
              "  </thead>\n",
              "  <tbody>\n",
              "    <tr>\n",
              "      <th>2021-03-02</th>\n",
              "      <td>137.04</td>\n",
              "    </tr>\n",
              "    <tr>\n",
              "      <th>2021-03-16</th>\n",
              "      <td>133.65</td>\n",
              "    </tr>\n",
              "    <tr>\n",
              "      <th>2021-03-17</th>\n",
              "      <td>133.92</td>\n",
              "    </tr>\n",
              "    <tr>\n",
              "      <th>2021-03-18</th>\n",
              "      <td>129.75</td>\n",
              "    </tr>\n",
              "    <tr>\n",
              "      <th>2021-04-27</th>\n",
              "      <td>138.01</td>\n",
              "    </tr>\n",
              "    <tr>\n",
              "      <th>2021-04-28</th>\n",
              "      <td>136.57</td>\n",
              "    </tr>\n",
              "    <tr>\n",
              "      <th>2021-04-29</th>\n",
              "      <td>142.68</td>\n",
              "    </tr>\n",
              "    <tr>\n",
              "      <th>2021-05-03</th>\n",
              "      <td>137.43</td>\n",
              "    </tr>\n",
              "    <tr>\n",
              "      <th>2021-05-14</th>\n",
              "      <td>130.15</td>\n",
              "    </tr>\n",
              "    <tr>\n",
              "      <th>2021-05-21</th>\n",
              "      <td>131.46</td>\n",
              "    </tr>\n",
              "  </tbody>\n",
              "</table>\n",
              "</div>"
            ],
            "text/plain": [
              "            close_price\n",
              "Date                   \n",
              "2021-03-02       137.04\n",
              "2021-03-16       133.65\n",
              "2021-03-17       133.92\n",
              "2021-03-18       129.75\n",
              "2021-04-27       138.01\n",
              "2021-04-28       136.57\n",
              "2021-04-29       142.68\n",
              "2021-05-03       137.43\n",
              "2021-05-14       130.15\n",
              "2021-05-21       131.46"
            ]
          },
          "metadata": {
            "tags": []
          },
          "execution_count": 50
        }
      ]
    },
    {
      "cell_type": "code",
      "metadata": {
        "id": "nrz-zxUaH4pi"
      },
      "source": [
        "dataset = need_data.values"
      ],
      "execution_count": null,
      "outputs": []
    },
    {
      "cell_type": "code",
      "metadata": {
        "colab": {
          "base_uri": "https://localhost:8080/"
        },
        "id": "uu7Z--04ID0Z",
        "outputId": "2f5a0f0c-a1b4-4573-dc8f-634288e9bf6f"
      },
      "source": [
        "training_data_len = math.ceil(len(dataset)*.8)\n",
        "training_data_len"
      ],
      "execution_count": null,
      "outputs": [
        {
          "output_type": "execute_result",
          "data": {
            "text/plain": [
              "468"
            ]
          },
          "metadata": {
            "tags": []
          },
          "execution_count": 52
        }
      ]
    },
    {
      "cell_type": "markdown",
      "metadata": {
        "id": "4YVpuFsKt7fN"
      },
      "source": [
        "The math.ceil() method rounds a number up to the nearest integer, if necessary, and returns the result.\n",
        "\n"
      ]
    },
    {
      "cell_type": "markdown",
      "metadata": {
        "id": "vRUtE64VuH-q"
      },
      "source": [
        "\n",
        "\n",
        "Scale and fit data.\n",
        "For optimal performance."
      ]
    },
    {
      "cell_type": "code",
      "metadata": {
        "colab": {
          "base_uri": "https://localhost:8080/"
        },
        "id": "U-drxwbEIGc4",
        "outputId": "8759981f-307c-4f85-9409-a45b1f167b83"
      },
      "source": [
        "scaler = MinMaxScaler(feature_range=(0,1))\n",
        "scaled_data = scaler.fit_transform(dataset)\n",
        "print(scaled_data)"
      ],
      "execution_count": null,
      "outputs": [
        {
          "output_type": "stream",
          "text": [
            "[[0.24213552]\n",
            " [0.23482546]\n",
            " [0.22989733]\n",
            " [0.1699384 ]\n",
            " [0.15983573]\n",
            " [0.19178645]\n",
            " [0.2249692 ]\n",
            " [0.23425051]\n",
            " [0.21659138]\n",
            " [0.21059548]\n",
            " [0.2050924 ]\n",
            " [0.2113347 ]\n",
            " [0.21330595]\n",
            " [0.19806982]\n",
            " [0.20813142]\n",
            " [0.20377823]\n",
            " [0.21396304]\n",
            " [0.1611499 ]\n",
            " [0.16550308]\n",
            " [0.16082136]\n",
            " [0.10086242]\n",
            " [0.0987269 ]\n",
            " [0.09577002]\n",
            " [0.09289528]\n",
            " [0.09749487]\n",
            " [0.09404517]\n",
            " [0.08813142]\n",
            " [0.09913758]\n",
            " [0.13355236]\n",
            " [0.13141684]\n",
            " [0.13117043]\n",
            " [0.14677618]\n",
            " [0.06628337]\n",
            " [0.08024641]\n",
            " [0.08197125]\n",
            " [0.04106776]\n",
            " [0.04427105]\n",
            " [0.05437372]\n",
            " [0.04755647]\n",
            " [0.06899384]\n",
            " [0.04574949]\n",
            " [0.02361396]\n",
            " [0.02521561]\n",
            " [0.02546201]\n",
            " [0.00731006]\n",
            " [0.        ]\n",
            " [0.01281314]\n",
            " [0.07704312]\n",
            " [0.07408624]\n",
            " [0.07572895]\n",
            " [0.07564682]\n",
            " [0.06316222]\n",
            " [0.05806982]\n",
            " [0.06258727]\n",
            " [0.06570842]\n",
            " [0.0712115 ]\n",
            " [0.08131417]\n",
            " [0.075154  ]\n",
            " [0.06989733]\n",
            " [0.08016427]\n",
            " [0.09462012]\n",
            " [0.09182752]\n",
            " [0.10464066]\n",
            " [0.09765914]\n",
            " [0.09839836]\n",
            " [0.08895277]\n",
            " [0.08443532]\n",
            " [0.08558522]\n",
            " [0.0749076 ]\n",
            " [0.08665298]\n",
            " [0.07696099]\n",
            " [0.09129363]\n",
            " [0.097577  ]\n",
            " [0.09650924]\n",
            " [0.10143737]\n",
            " [0.09971253]\n",
            " [0.10529774]\n",
            " [0.13905544]\n",
            " [0.14907598]\n",
            " [0.14562628]\n",
            " [0.16024641]\n",
            " [0.16082136]\n",
            " [0.15597536]\n",
            " [0.15392197]\n",
            " [0.15958932]\n",
            " [0.15663244]\n",
            " [0.15835729]\n",
            " [0.16459959]\n",
            " [0.16229979]\n",
            " [0.16501027]\n",
            " [0.16106776]\n",
            " [0.16131417]\n",
            " [0.16402464]\n",
            " [0.16410678]\n",
            " [0.16377823]\n",
            " [0.164846  ]\n",
            " [0.16714579]\n",
            " [0.16501027]\n",
            " [0.16172485]\n",
            " [0.14390144]\n",
            " [0.15811088]\n",
            " [0.16418891]\n",
            " [0.16854209]\n",
            " [0.16221766]\n",
            " [0.16681725]\n",
            " [0.20082136]\n",
            " [0.20944559]\n",
            " [0.20156057]\n",
            " [0.19917864]\n",
            " [0.18965092]\n",
            " [0.18940452]\n",
            " [0.18644764]\n",
            " [0.18644764]\n",
            " [0.18225873]\n",
            " [0.18718686]\n",
            " [0.19991786]\n",
            " [0.20476386]\n",
            " [0.20583162]\n",
            " [0.20698152]\n",
            " [0.22250513]\n",
            " [0.20862423]\n",
            " [0.21125257]\n",
            " [0.20911704]\n",
            " [0.20755647]\n",
            " [0.19613963]\n",
            " [0.18833676]\n",
            " [0.19523614]\n",
            " [0.19137577]\n",
            " [0.19441478]\n",
            " [0.19794661]\n",
            " [0.20788501]\n",
            " [0.19794661]\n",
            " [0.20813142]\n",
            " [0.20558522]\n",
            " [0.18685832]\n",
            " [0.18234086]\n",
            " [0.18521561]\n",
            " [0.18505133]\n",
            " [0.18973306]\n",
            " [0.18989733]\n",
            " [0.19613963]\n",
            " [0.17404517]\n",
            " [0.18176591]\n",
            " [0.17609856]\n",
            " [0.16328542]\n",
            " [0.097577  ]\n",
            " [0.09856263]\n",
            " [0.11416838]\n",
            " [0.09075975]\n",
            " [0.09232033]\n",
            " [0.08714579]\n",
            " [0.07934292]\n",
            " [0.08197125]\n",
            " [0.0811499 ]\n",
            " [0.09034908]\n",
            " [0.09798768]\n",
            " [0.10250513]\n",
            " [0.11080082]\n",
            " [0.11055441]\n",
            " [0.11581109]\n",
            " [0.11613963]\n",
            " [0.11277207]\n",
            " [0.11071869]\n",
            " [0.1098152 ]\n",
            " [0.11039014]\n",
            " [0.11047228]\n",
            " [0.11277207]\n",
            " [0.12698152]\n",
            " [0.12501027]\n",
            " [0.12747433]\n",
            " [0.11334702]\n",
            " [0.11531828]\n",
            " [0.11219713]\n",
            " [0.11811088]\n",
            " [0.11794661]\n",
            " [0.11663244]\n",
            " [0.11778234]\n",
            " [0.1123614 ]\n",
            " [0.11063655]\n",
            " [0.11104723]\n",
            " [0.08533881]\n",
            " [0.08041068]\n",
            " [0.08123203]\n",
            " [0.07942505]\n",
            " [0.07893224]\n",
            " [0.07934292]\n",
            " [0.07802875]\n",
            " [0.08057495]\n",
            " [0.08246407]\n",
            " [0.08821355]\n",
            " [0.09782341]\n",
            " [0.09798768]\n",
            " [0.1012731 ]\n",
            " [0.09593429]\n",
            " [0.10119097]\n",
            " [0.10184805]\n",
            " [0.10151951]\n",
            " [0.10776181]\n",
            " [0.12049281]\n",
            " [0.13371663]\n",
            " [0.13322382]\n",
            " [0.12689938]\n",
            " [0.11926078]\n",
            " [0.11778234]\n",
            " [0.11720739]\n",
            " [0.124846  ]\n",
            " [0.11934292]\n",
            " [0.11540041]\n",
            " [0.11901437]\n",
            " [0.12      ]\n",
            " [0.11326489]\n",
            " [0.10948665]\n",
            " [0.11063655]\n",
            " [0.11425051]\n",
            " [0.10209446]\n",
            " [0.10809035]\n",
            " [0.09921971]\n",
            " [0.10036961]\n",
            " [0.09815195]\n",
            " [0.09683778]\n",
            " [0.10143737]\n",
            " [0.1012731 ]\n",
            " [0.10841889]\n",
            " [0.1086653 ]\n",
            " [0.11342916]\n",
            " [0.11055441]\n",
            " [0.10915811]\n",
            " [0.11318275]\n",
            " [0.09010267]\n",
            " [0.08903491]\n",
            " [0.08394251]\n",
            " [0.08435318]\n",
            " [0.0836961 ]\n",
            " [0.07967146]\n",
            " [0.0763039 ]\n",
            " [0.08024641]\n",
            " [0.07983573]\n",
            " [0.08665298]\n",
            " [0.08928131]\n",
            " [0.08468172]\n",
            " [0.07613963]\n",
            " [0.07326489]\n",
            " [0.0737577 ]\n",
            " [0.07679671]\n",
            " [0.0749076 ]\n",
            " [0.07433265]\n",
            " [0.06119097]\n",
            " [0.06061602]\n",
            " [0.05453799]\n",
            " [0.06217659]\n",
            " [0.06965092]\n",
            " [0.07548255]\n",
            " [0.07638604]\n",
            " [0.07080082]\n",
            " [0.06677618]\n",
            " [0.07186858]\n",
            " [0.0726078 ]\n",
            " [0.07293634]\n",
            " [0.07679671]\n",
            " [0.07794661]\n",
            " [0.08065708]\n",
            " [0.07704312]\n",
            " [0.07728953]\n",
            " [0.07564682]\n",
            " [0.08870637]\n",
            " [0.0950308 ]\n",
            " [0.09577002]\n",
            " [0.06579055]\n",
            " [0.17741273]\n",
            " [0.17716632]\n",
            " [0.19293634]\n",
            " [0.1889117 ]\n",
            " [0.1898152 ]\n",
            " [0.19482546]\n",
            " [0.19277207]\n",
            " [0.19441478]\n",
            " [0.20640657]\n",
            " [0.20648871]\n",
            " [0.20845996]\n",
            " [0.19318275]\n",
            " [0.19170431]\n",
            " [0.17708419]\n",
            " [0.17815195]\n",
            " [0.17954825]\n",
            " [0.1798768 ]\n",
            " [0.17823409]\n",
            " [0.17568789]\n",
            " [0.17848049]\n",
            " [0.17691992]\n",
            " [0.17560575]\n",
            " [0.17264887]\n",
            " [0.18234086]\n",
            " [0.19112936]\n",
            " [0.18283368]\n",
            " [0.1838193 ]\n",
            " [0.2073922 ]\n",
            " [0.20550308]\n",
            " [0.20574949]\n",
            " [0.20813142]\n",
            " [0.20517454]\n",
            " [0.20057495]\n",
            " [0.20969199]\n",
            " [0.19975359]\n",
            " [0.19704312]\n",
            " [0.18948665]\n",
            " [0.15383984]\n",
            " [0.18102669]\n",
            " [0.18299795]\n",
            " [0.17240246]\n",
            " [0.15753593]\n",
            " [0.16689938]\n",
            " [0.19696099]\n",
            " [0.17256674]\n",
            " [0.16008214]\n",
            " [0.13716632]\n",
            " [0.14061602]\n",
            " [0.1387269 ]\n",
            " [0.14472279]\n",
            " [0.1262423 ]\n",
            " [0.12533881]\n",
            " [0.10784394]\n",
            " [0.09609856]\n",
            " [0.0887885 ]\n",
            " [0.09889117]\n",
            " [0.08566735]\n",
            " [0.09667351]\n",
            " [0.10455852]\n",
            " [0.10143737]\n",
            " [0.10045175]\n",
            " [0.0786037 ]\n",
            " [0.06932238]\n",
            " [0.06184805]\n",
            " [0.05700205]\n",
            " [0.05544148]\n",
            " [0.06135524]\n",
            " [0.06579055]\n",
            " [0.06422998]\n",
            " [0.05963039]\n",
            " [0.06004107]\n",
            " [0.07794661]\n",
            " [0.10045175]\n",
            " [0.11285421]\n",
            " [0.11457906]\n",
            " [0.12082136]\n",
            " [0.11819302]\n",
            " [0.13930185]\n",
            " [0.1250924 ]\n",
            " [0.12821355]\n",
            " [0.13831622]\n",
            " [0.14176591]\n",
            " [0.13905544]\n",
            " [0.13848049]\n",
            " [0.12895277]\n",
            " [0.12731006]\n",
            " [0.10595483]\n",
            " [0.1012731 ]\n",
            " [0.1174538 ]\n",
            " [0.12583162]\n",
            " [0.13396304]\n",
            " [0.13207392]\n",
            " [0.13486653]\n",
            " [0.16903491]\n",
            " [0.17880903]\n",
            " [0.17938398]\n",
            " [0.18628337]\n",
            " [0.18940452]\n",
            " [0.19581109]\n",
            " [0.19597536]\n",
            " [0.19835729]\n",
            " [0.21519507]\n",
            " [0.21117043]\n",
            " [0.22907598]\n",
            " [0.22472279]\n",
            " [0.24238193]\n",
            " [0.24837782]\n",
            " [0.26053388]\n",
            " [0.25511294]\n",
            " [0.25954825]\n",
            " [0.25215606]\n",
            " [0.24427105]\n",
            " [0.23622177]\n",
            " [0.23581109]\n",
            " [0.23843943]\n",
            " [0.24312115]\n",
            " [0.24344969]\n",
            " [0.23170431]\n",
            " [0.22940452]\n",
            " [0.17486653]\n",
            " [0.18193018]\n",
            " [0.18989733]\n",
            " [0.1611499 ]\n",
            " [0.17010267]\n",
            " [0.16944559]\n",
            " [0.11268994]\n",
            " [0.09437372]\n",
            " [0.09166324]\n",
            " [0.10176591]\n",
            " [0.10579055]\n",
            " [0.11211499]\n",
            " [0.12410678]\n",
            " [0.13256674]\n",
            " [0.12098563]\n",
            " [0.12090349]\n",
            " [0.12394251]\n",
            " [0.12008214]\n",
            " [0.11498973]\n",
            " [0.1213963 ]\n",
            " [0.11244353]\n",
            " [0.1098152 ]\n",
            " [0.0973306 ]\n",
            " [0.08747433]\n",
            " [0.1075154 ]\n",
            " [0.1063655 ]\n",
            " [0.1174538 ]\n",
            " [0.10455852]\n",
            " [0.10078029]\n",
            " [0.09667351]\n",
            " [0.10078029]\n",
            " [0.09273101]\n",
            " [0.07203285]\n",
            " [0.06414784]\n",
            " [0.06817248]\n",
            " [0.06275154]\n",
            " [0.05889117]\n",
            " [0.05355236]\n",
            " [0.06349076]\n",
            " [0.07112936]\n",
            " [0.07055441]\n",
            " [0.07039014]\n",
            " [0.0737577 ]\n",
            " [0.07400411]\n",
            " [0.07761807]\n",
            " [0.08205339]\n",
            " [0.09199179]\n",
            " [0.09724846]\n",
            " [0.10176591]\n",
            " [0.10184805]\n",
            " [0.11170431]\n",
            " [0.11359343]\n",
            " [0.11474333]\n",
            " [0.12131417]\n",
            " [0.12320329]\n",
            " [0.11425051]\n",
            " [0.11129363]\n",
            " [0.12164271]\n",
            " [0.12057495]\n",
            " [0.10595483]\n",
            " [0.10595483]\n",
            " [0.11457906]\n",
            " [0.11646817]\n",
            " [0.22546201]\n",
            " [0.29634497]\n",
            " [0.30299795]\n",
            " [0.32008214]\n",
            " [0.35909651]\n",
            " [0.36      ]\n",
            " [0.34554415]\n",
            " [0.35843943]\n",
            " [0.36344969]\n",
            " [0.3625462 ]\n",
            " [0.38020534]\n",
            " [0.34119097]\n",
            " [0.21609856]\n",
            " [0.20743326]\n",
            " [0.18373717]\n",
            " [0.18694045]\n",
            " [0.19728953]\n",
            " [0.20197125]\n",
            " [0.21100616]\n",
            " [0.23195072]\n",
            " [0.23195072]\n",
            " [0.23786448]\n",
            " [0.23655031]\n",
            " [0.24427105]\n",
            " [0.24410678]\n",
            " [0.262423  ]\n",
            " [0.27162218]\n",
            " [0.28353183]\n",
            " [0.27646817]\n",
            " [0.25223819]\n",
            " [0.25223819]\n",
            " [0.26907598]\n",
            " [0.25765914]\n",
            " [0.27063655]\n",
            " [0.26570842]\n",
            " [0.2612731 ]\n",
            " [0.24772074]\n",
            " [0.23162218]\n",
            " [0.2312115 ]\n",
            " [0.21190965]\n",
            " [0.23408624]\n",
            " [0.2201232 ]\n",
            " [0.27679671]\n",
            " [0.25067762]\n",
            " [0.24566735]\n",
            " [0.28936345]\n",
            " [0.28328542]\n",
            " [0.33330595]\n",
            " [0.4011499 ]\n",
            " [0.4011499 ]\n",
            " [0.38989733]\n",
            " [0.38989733]\n",
            " [0.36928131]\n",
            " [0.36928131]\n",
            " [0.34193018]\n",
            " [0.34193018]\n",
            " [0.33305955]\n",
            " [0.33305955]\n",
            " [0.32402464]\n",
            " [0.33527721]\n",
            " [0.37823409]\n",
            " [0.37659138]\n",
            " [0.37330595]\n",
            " [0.37593429]\n",
            " [0.37289528]\n",
            " [0.377577  ]\n",
            " [0.38529774]\n",
            " [0.42332649]\n",
            " [0.40016427]\n",
            " [0.36985626]\n",
            " [0.38168378]\n",
            " [0.36164271]\n",
            " [0.27055441]\n",
            " [0.30850103]\n",
            " [0.23474333]\n",
            " [0.27096509]\n",
            " [0.27244353]\n",
            " [0.23687885]\n",
            " [0.26020534]\n",
            " [0.29544148]\n",
            " [0.28443532]\n",
            " [0.30850103]\n",
            " [0.30784394]\n",
            " [0.26915811]\n",
            " [0.28821355]\n",
            " [0.31112936]\n",
            " [0.30168378]\n",
            " [0.33691992]\n",
            " [0.34694045]\n",
            " [0.38209446]\n",
            " [0.38554415]\n",
            " [0.38537988]\n",
            " [0.37889117]\n",
            " [0.37897331]\n",
            " [0.52722793]\n",
            " [0.55901437]\n",
            " [0.57494867]\n",
            " [0.64895277]\n",
            " [0.57839836]\n",
            " [0.58776181]\n",
            " [0.58168378]\n",
            " [0.58726899]\n",
            " [0.6198768 ]\n",
            " [0.67244353]\n",
            " [0.6873922 ]\n",
            " [0.70160164]\n",
            " [0.70061602]\n",
            " [0.68098563]\n",
            " [0.67720739]\n",
            " [0.83786448]\n",
            " [0.82882957]\n",
            " [0.83022587]\n",
            " [0.82817248]\n",
            " [0.94143737]\n",
            " [0.95112936]\n",
            " [0.84837782]\n",
            " [0.86537988]\n",
            " [0.87843943]\n",
            " [0.93979466]\n",
            " [0.96796715]\n",
            " [1.        ]\n",
            " [0.99712526]\n",
            " [0.83572895]\n",
            " [0.76      ]\n",
            " [0.77240246]\n",
            " [0.74455852]\n",
            " [0.74677618]\n",
            " [0.71252567]\n",
            " [0.78036961]\n",
            " [0.76854209]\n",
            " [0.8187269 ]\n",
            " [0.77560575]\n",
            " [0.71581109]\n",
            " [0.72657084]]\n"
          ],
          "name": "stdout"
        }
      ]
    },
    {
      "cell_type": "markdown",
      "metadata": {
        "id": "noOOT2Itm7uN"
      },
      "source": [
        " normalize the dataset"
      ]
    },
    {
      "cell_type": "markdown",
      "metadata": {
        "id": "v1iyQoS7Miwl"
      },
      "source": [
        "Training dataset."
      ]
    },
    {
      "cell_type": "code",
      "metadata": {
        "colab": {
          "base_uri": "https://localhost:8080/"
        },
        "id": "5mEohftZIJb9",
        "outputId": "528d6cad-b66c-4ab5-c209-f6b580ded77f"
      },
      "source": [
        "train_data = scaled_data[0:training_data_len , :]\n",
        "x_train = []\n",
        "y_train = []\n",
        "past_days = 20\n",
        "for i in range(past_days, len(train_data)):\n",
        "    x_train.append(train_data[i-past_days:i, :])\n",
        "    y_train.append(train_data[i, 0])\n",
        "    if i<= past_days:\n",
        "        print(x_train)\n",
        "        print(y_train)\n",
        "        print()"
      ],
      "execution_count": null,
      "outputs": [
        {
          "output_type": "stream",
          "text": [
            "[array([[0.24213552],\n",
            "       [0.23482546],\n",
            "       [0.22989733],\n",
            "       [0.1699384 ],\n",
            "       [0.15983573],\n",
            "       [0.19178645],\n",
            "       [0.2249692 ],\n",
            "       [0.23425051],\n",
            "       [0.21659138],\n",
            "       [0.21059548],\n",
            "       [0.2050924 ],\n",
            "       [0.2113347 ],\n",
            "       [0.21330595],\n",
            "       [0.19806982],\n",
            "       [0.20813142],\n",
            "       [0.20377823],\n",
            "       [0.21396304],\n",
            "       [0.1611499 ],\n",
            "       [0.16550308],\n",
            "       [0.16082136]])]\n",
            "[0.10086242299794662]\n",
            "\n"
          ],
          "name": "stdout"
        }
      ]
    },
    {
      "cell_type": "code",
      "metadata": {
        "id": "QsWO9I9EIOqR"
      },
      "source": [
        "x_train, y_train = np.array(x_train), np.array(y_train)"
      ],
      "execution_count": null,
      "outputs": []
    },
    {
      "cell_type": "markdown",
      "metadata": {
        "id": "9lSWabmUup_Z"
      },
      "source": [
        "reshape input to be [samples, time steps, features]"
      ]
    },
    {
      "cell_type": "code",
      "metadata": {
        "colab": {
          "base_uri": "https://localhost:8080/"
        },
        "id": "kqboeK0gIR0D",
        "outputId": "90335ead-34cc-4c58-dd4a-dceb87fd80d1"
      },
      "source": [
        "x_train = np.reshape(x_train, (x_train.shape[0], x_train.shape[1], 1))\n",
        "x_train"
      ],
      "execution_count": null,
      "outputs": [
        {
          "output_type": "execute_result",
          "data": {
            "text/plain": [
              "array([[[0.24213552],\n",
              "        [0.23482546],\n",
              "        [0.22989733],\n",
              "        ...,\n",
              "        [0.1611499 ],\n",
              "        [0.16550308],\n",
              "        [0.16082136]],\n",
              "\n",
              "       [[0.23482546],\n",
              "        [0.22989733],\n",
              "        [0.1699384 ],\n",
              "        ...,\n",
              "        [0.16550308],\n",
              "        [0.16082136],\n",
              "        [0.10086242]],\n",
              "\n",
              "       [[0.22989733],\n",
              "        [0.1699384 ],\n",
              "        [0.15983573],\n",
              "        ...,\n",
              "        [0.16082136],\n",
              "        [0.10086242],\n",
              "        [0.0987269 ]],\n",
              "\n",
              "       ...,\n",
              "\n",
              "       [[0.12057495],\n",
              "        [0.10595483],\n",
              "        [0.10595483],\n",
              "        ...,\n",
              "        [0.21609856],\n",
              "        [0.20743326],\n",
              "        [0.18373717]],\n",
              "\n",
              "       [[0.10595483],\n",
              "        [0.10595483],\n",
              "        [0.11457906],\n",
              "        ...,\n",
              "        [0.20743326],\n",
              "        [0.18373717],\n",
              "        [0.18694045]],\n",
              "\n",
              "       [[0.10595483],\n",
              "        [0.11457906],\n",
              "        [0.11646817],\n",
              "        ...,\n",
              "        [0.18373717],\n",
              "        [0.18694045],\n",
              "        [0.19728953]]])"
            ]
          },
          "metadata": {
            "tags": []
          },
          "execution_count": 56
        }
      ]
    },
    {
      "cell_type": "markdown",
      "metadata": {
        "id": "ByrdiIYLvBL2"
      },
      "source": [
        "Convert into a 3D array."
      ]
    },
    {
      "cell_type": "code",
      "metadata": {
        "colab": {
          "base_uri": "https://localhost:8080/"
        },
        "id": "3wrAtt48IT_E",
        "outputId": "13424a45-1aba-4c8e-abe2-63e2bf2adb6e"
      },
      "source": [
        "print(x_train.shape)\n",
        "print(y_train.shape)"
      ],
      "execution_count": null,
      "outputs": [
        {
          "output_type": "stream",
          "text": [
            "(448, 20, 1)\n",
            "(448,)\n"
          ],
          "name": "stdout"
        }
      ]
    },
    {
      "cell_type": "markdown",
      "metadata": {
        "id": "gW1aCCQsigOz"
      },
      "source": [
        "Building model."
      ]
    },
    {
      "cell_type": "code",
      "metadata": {
        "colab": {
          "base_uri": "https://localhost:8080/"
        },
        "id": "gDbN0mgCIWxN",
        "outputId": "500a08f5-e3cd-482c-9094-9f4be74fb634"
      },
      "source": [
        "import keras.models\n",
        "import tensorflow as tf\n",
        "tf.random.set_seed(0)\n",
        "model = Sequential()\n",
        "model.add(LSTM(160, return_sequences=True, activation = \"tanh\", input_shape= (x_train.shape[1], 1)))\n",
        "model.add(Dropout(0.2))\n",
        "model.add(LSTM(80, return_sequences= False, activation = \"tanh\"))\n",
        "model.add(Dense(60))\n",
        "model.add(Dense(1))\n",
        "model.summary()"
      ],
      "execution_count": null,
      "outputs": [
        {
          "output_type": "stream",
          "text": [
            "Model: \"sequential_1\"\n",
            "_________________________________________________________________\n",
            "Layer (type)                 Output Shape              Param #   \n",
            "=================================================================\n",
            "lstm_2 (LSTM)                (None, 20, 160)           103680    \n",
            "_________________________________________________________________\n",
            "dropout_1 (Dropout)          (None, 20, 160)           0         \n",
            "_________________________________________________________________\n",
            "lstm_3 (LSTM)                (None, 80)                77120     \n",
            "_________________________________________________________________\n",
            "dense_2 (Dense)              (None, 60)                4860      \n",
            "_________________________________________________________________\n",
            "dense_3 (Dense)              (None, 1)                 61        \n",
            "=================================================================\n",
            "Total params: 185,721\n",
            "Trainable params: 185,721\n",
            "Non-trainable params: 0\n",
            "_________________________________________________________________\n"
          ],
          "name": "stdout"
        }
      ]
    },
    {
      "cell_type": "code",
      "metadata": {
        "id": "4YRCEddFIZm5"
      },
      "source": [
        "model.compile(optimizer='adam', loss='mean_squared_error')"
      ],
      "execution_count": null,
      "outputs": []
    },
    {
      "cell_type": "markdown",
      "metadata": {
        "id": "3awomEJ1ix6_"
      },
      "source": [
        "Adaptive Moment Estimation .\n",
        "optimization technique for gradient descent."
      ]
    },
    {
      "cell_type": "markdown",
      "metadata": {
        "id": "paGTDSOtka8Y"
      },
      "source": [
        "EarlyStopping callback allows to specify the performance measure to monitor, the trigger, and once triggered, it will stop the training process."
      ]
    },
    {
      "cell_type": "code",
      "metadata": {
        "colab": {
          "base_uri": "https://localhost:8080/"
        },
        "id": "qjfmGcm9Idgx",
        "outputId": "2bb2ae36-c331-46bb-dcfe-4a5877efb157"
      },
      "source": [
        "from keras.callbacks import EarlyStopping\n",
        "early_stop = EarlyStopping(monitor = 'val_loss', mode = 'min',verbose = 1,patience = 5)\n",
        "history = model.fit(x_train, y_train, batch_size = 64, epochs = 100, verbose = 1, validation_split = 0.2, callbacks = [early_stop])"
      ],
      "execution_count": null,
      "outputs": [
        {
          "output_type": "stream",
          "text": [
            "Epoch 1/100\n",
            "6/6 [==============================] - 5s 287ms/step - loss: 0.0097 - val_loss: 0.0049\n",
            "Epoch 2/100\n",
            "6/6 [==============================] - 1s 86ms/step - loss: 0.0021 - val_loss: 0.0060\n",
            "Epoch 3/100\n",
            "6/6 [==============================] - 1s 89ms/step - loss: 0.0015 - val_loss: 0.0044\n",
            "Epoch 4/100\n",
            "6/6 [==============================] - 1s 86ms/step - loss: 0.0015 - val_loss: 0.0048\n",
            "Epoch 5/100\n",
            "6/6 [==============================] - 1s 90ms/step - loss: 0.0013 - val_loss: 0.0041\n",
            "Epoch 6/100\n",
            "6/6 [==============================] - 1s 87ms/step - loss: 0.0011 - val_loss: 0.0037\n",
            "Epoch 7/100\n",
            "6/6 [==============================] - 1s 90ms/step - loss: 9.3800e-04 - val_loss: 0.0037\n",
            "Epoch 8/100\n",
            "6/6 [==============================] - 1s 85ms/step - loss: 8.9183e-04 - val_loss: 0.0036\n",
            "Epoch 9/100\n",
            "6/6 [==============================] - 1s 87ms/step - loss: 8.1213e-04 - val_loss: 0.0035\n",
            "Epoch 10/100\n",
            "6/6 [==============================] - 1s 86ms/step - loss: 6.7119e-04 - val_loss: 0.0034\n",
            "Epoch 11/100\n",
            "6/6 [==============================] - 1s 87ms/step - loss: 6.4189e-04 - val_loss: 0.0031\n",
            "Epoch 12/100\n",
            "6/6 [==============================] - 1s 85ms/step - loss: 6.2651e-04 - val_loss: 0.0029\n",
            "Epoch 13/100\n",
            "6/6 [==============================] - 1s 88ms/step - loss: 6.3438e-04 - val_loss: 0.0028\n",
            "Epoch 14/100\n",
            "6/6 [==============================] - 0s 85ms/step - loss: 5.2716e-04 - val_loss: 0.0026\n",
            "Epoch 15/100\n",
            "6/6 [==============================] - 1s 90ms/step - loss: 5.4054e-04 - val_loss: 0.0026\n",
            "Epoch 16/100\n",
            "6/6 [==============================] - 1s 87ms/step - loss: 5.4452e-04 - val_loss: 0.0026\n",
            "Epoch 17/100\n",
            "6/6 [==============================] - 1s 92ms/step - loss: 4.9520e-04 - val_loss: 0.0025\n",
            "Epoch 18/100\n",
            "6/6 [==============================] - 1s 85ms/step - loss: 4.7629e-04 - val_loss: 0.0024\n",
            "Epoch 19/100\n",
            "6/6 [==============================] - 1s 88ms/step - loss: 5.4398e-04 - val_loss: 0.0025\n",
            "Epoch 20/100\n",
            "6/6 [==============================] - 0s 84ms/step - loss: 5.4337e-04 - val_loss: 0.0022\n",
            "Epoch 21/100\n",
            "6/6 [==============================] - 1s 86ms/step - loss: 4.3655e-04 - val_loss: 0.0023\n",
            "Epoch 22/100\n",
            "6/6 [==============================] - 1s 85ms/step - loss: 4.6373e-04 - val_loss: 0.0022\n",
            "Epoch 23/100\n",
            "6/6 [==============================] - 1s 88ms/step - loss: 4.2037e-04 - val_loss: 0.0023\n",
            "Epoch 24/100\n",
            "6/6 [==============================] - 1s 90ms/step - loss: 4.6095e-04 - val_loss: 0.0020\n",
            "Epoch 25/100\n",
            "6/6 [==============================] - 1s 87ms/step - loss: 4.4988e-04 - val_loss: 0.0020\n",
            "Epoch 26/100\n",
            "6/6 [==============================] - 1s 89ms/step - loss: 4.5909e-04 - val_loss: 0.0021\n",
            "Epoch 27/100\n",
            "6/6 [==============================] - 1s 89ms/step - loss: 4.0396e-04 - val_loss: 0.0020\n",
            "Epoch 28/100\n",
            "6/6 [==============================] - 1s 88ms/step - loss: 4.1301e-04 - val_loss: 0.0019\n",
            "Epoch 29/100\n",
            "6/6 [==============================] - 1s 86ms/step - loss: 3.7698e-04 - val_loss: 0.0020\n",
            "Epoch 30/100\n",
            "6/6 [==============================] - 1s 87ms/step - loss: 3.9630e-04 - val_loss: 0.0018\n",
            "Epoch 31/100\n",
            "6/6 [==============================] - 1s 88ms/step - loss: 3.8140e-04 - val_loss: 0.0017\n",
            "Epoch 32/100\n",
            "6/6 [==============================] - 1s 90ms/step - loss: 3.8293e-04 - val_loss: 0.0018\n",
            "Epoch 33/100\n",
            "6/6 [==============================] - 1s 88ms/step - loss: 3.8534e-04 - val_loss: 0.0017\n",
            "Epoch 34/100\n",
            "6/6 [==============================] - 1s 89ms/step - loss: 3.1366e-04 - val_loss: 0.0016\n",
            "Epoch 35/100\n",
            "6/6 [==============================] - 1s 87ms/step - loss: 3.6786e-04 - val_loss: 0.0016\n",
            "Epoch 36/100\n",
            "6/6 [==============================] - 1s 89ms/step - loss: 3.8892e-04 - val_loss: 0.0017\n",
            "Epoch 37/100\n",
            "6/6 [==============================] - 1s 90ms/step - loss: 3.7028e-04 - val_loss: 0.0015\n",
            "Epoch 38/100\n",
            "6/6 [==============================] - 1s 89ms/step - loss: 3.6872e-04 - val_loss: 0.0015\n",
            "Epoch 39/100\n",
            "6/6 [==============================] - 1s 86ms/step - loss: 3.4123e-04 - val_loss: 0.0015\n",
            "Epoch 40/100\n",
            "6/6 [==============================] - 1s 88ms/step - loss: 3.9124e-04 - val_loss: 0.0014\n",
            "Epoch 41/100\n",
            "6/6 [==============================] - 1s 89ms/step - loss: 3.4613e-04 - val_loss: 0.0014\n",
            "Epoch 42/100\n",
            "6/6 [==============================] - 1s 92ms/step - loss: 3.1986e-04 - val_loss: 0.0014\n",
            "Epoch 43/100\n",
            "6/6 [==============================] - 1s 87ms/step - loss: 3.5590e-04 - val_loss: 0.0014\n",
            "Epoch 44/100\n",
            "6/6 [==============================] - 1s 87ms/step - loss: 3.1339e-04 - val_loss: 0.0013\n",
            "Epoch 45/100\n",
            "6/6 [==============================] - 1s 86ms/step - loss: 3.2251e-04 - val_loss: 0.0013\n",
            "Epoch 46/100\n",
            "6/6 [==============================] - 1s 90ms/step - loss: 3.4035e-04 - val_loss: 0.0013\n",
            "Epoch 47/100\n",
            "6/6 [==============================] - 1s 86ms/step - loss: 2.6825e-04 - val_loss: 0.0013\n",
            "Epoch 48/100\n",
            "6/6 [==============================] - 1s 87ms/step - loss: 3.6122e-04 - val_loss: 0.0012\n",
            "Epoch 49/100\n",
            "6/6 [==============================] - 1s 88ms/step - loss: 3.2902e-04 - val_loss: 0.0012\n",
            "Epoch 50/100\n",
            "6/6 [==============================] - 1s 86ms/step - loss: 3.1974e-04 - val_loss: 0.0013\n",
            "Epoch 51/100\n",
            "6/6 [==============================] - 1s 90ms/step - loss: 3.8487e-04 - val_loss: 0.0012\n",
            "Epoch 52/100\n",
            "6/6 [==============================] - 1s 90ms/step - loss: 2.8466e-04 - val_loss: 0.0012\n",
            "Epoch 53/100\n",
            "6/6 [==============================] - 1s 88ms/step - loss: 3.4903e-04 - val_loss: 0.0012\n",
            "Epoch 54/100\n",
            "6/6 [==============================] - 1s 91ms/step - loss: 3.4017e-04 - val_loss: 0.0012\n",
            "Epoch 55/100\n",
            "6/6 [==============================] - 1s 86ms/step - loss: 2.6842e-04 - val_loss: 0.0012\n",
            "Epoch 56/100\n",
            "6/6 [==============================] - 1s 90ms/step - loss: 3.0818e-04 - val_loss: 0.0011\n",
            "Epoch 57/100\n",
            "6/6 [==============================] - 1s 88ms/step - loss: 2.6066e-04 - val_loss: 0.0011\n",
            "Epoch 58/100\n",
            "6/6 [==============================] - 1s 89ms/step - loss: 3.8115e-04 - val_loss: 0.0011\n",
            "Epoch 59/100\n",
            "6/6 [==============================] - 1s 90ms/step - loss: 3.1415e-04 - val_loss: 0.0012\n",
            "Epoch 60/100\n",
            "6/6 [==============================] - 1s 88ms/step - loss: 3.2180e-04 - val_loss: 0.0012\n",
            "Epoch 61/100\n",
            "6/6 [==============================] - 1s 90ms/step - loss: 3.3174e-04 - val_loss: 0.0010\n",
            "Epoch 62/100\n",
            "6/6 [==============================] - 1s 88ms/step - loss: 2.2063e-04 - val_loss: 0.0010\n",
            "Epoch 63/100\n",
            "6/6 [==============================] - 1s 90ms/step - loss: 2.4370e-04 - val_loss: 0.0010\n",
            "Epoch 64/100\n",
            "6/6 [==============================] - 1s 91ms/step - loss: 2.5762e-04 - val_loss: 0.0010\n",
            "Epoch 65/100\n",
            "6/6 [==============================] - 1s 88ms/step - loss: 2.9762e-04 - val_loss: 0.0011\n",
            "Epoch 66/100\n",
            "6/6 [==============================] - 1s 87ms/step - loss: 2.7697e-04 - val_loss: 9.9918e-04\n",
            "Epoch 67/100\n",
            "6/6 [==============================] - 1s 90ms/step - loss: 2.7758e-04 - val_loss: 0.0010\n",
            "Epoch 68/100\n",
            "6/6 [==============================] - 1s 87ms/step - loss: 2.5322e-04 - val_loss: 0.0010\n",
            "Epoch 69/100\n",
            "6/6 [==============================] - 1s 88ms/step - loss: 2.6303e-04 - val_loss: 0.0011\n",
            "Epoch 70/100\n",
            "6/6 [==============================] - 1s 86ms/step - loss: 3.4167e-04 - val_loss: 9.4321e-04\n",
            "Epoch 71/100\n",
            "6/6 [==============================] - 1s 89ms/step - loss: 3.2844e-04 - val_loss: 9.5723e-04\n",
            "Epoch 72/100\n",
            "6/6 [==============================] - 1s 87ms/step - loss: 2.8101e-04 - val_loss: 9.5278e-04\n",
            "Epoch 73/100\n",
            "6/6 [==============================] - 1s 87ms/step - loss: 2.7874e-04 - val_loss: 9.8800e-04\n",
            "Epoch 74/100\n",
            "6/6 [==============================] - 1s 89ms/step - loss: 2.5189e-04 - val_loss: 9.8188e-04\n",
            "Epoch 75/100\n",
            "6/6 [==============================] - 1s 91ms/step - loss: 3.1050e-04 - val_loss: 9.4997e-04\n",
            "Epoch 00075: early stopping\n"
          ],
          "name": "stdout"
        }
      ]
    },
    {
      "cell_type": "code",
      "metadata": {
        "colab": {
          "base_uri": "https://localhost:8080/",
          "height": 281
        },
        "id": "UIKUnSqUIgD3",
        "outputId": "e6e25e01-2597-4adf-ace6-b4d75a42bf9b"
      },
      "source": [
        "loss = pd.DataFrame(model.history.history)\n",
        "loss.plot()"
      ],
      "execution_count": null,
      "outputs": [
        {
          "output_type": "execute_result",
          "data": {
            "text/plain": [
              "<matplotlib.axes._subplots.AxesSubplot at 0x7fe8f4004710>"
            ]
          },
          "metadata": {
            "tags": []
          },
          "execution_count": 80
        },
        {
          "output_type": "display_data",
          "data": {
            "image/png": "[encoded data removed]",
            "text/plain": [
              "<Figure size 432x288 with 1 Axes>"
            ]
          },
          "metadata": {
            "tags": [],
            "needs_background": "light"
          }
        }
      ]
    },
    {
      "cell_type": "markdown",
      "metadata": {
        "id": "kAMsiJNOmXtt"
      },
      "source": [
        "val_loss starts decreasing, means model built is learning and working fine."
      ]
    },
    {
      "cell_type": "markdown",
      "metadata": {
        "id": "coIJPBpLudKF"
      },
      "source": [
        "Predicting Future Stock using the Test Set"
      ]
    },
    {
      "cell_type": "code",
      "metadata": {
        "id": "RgLJQZ2FIziB"
      },
      "source": [
        "test_data = scaled_data[training_data_len - past_days: , :]\n",
        "x_test = []\n",
        "y_test = dataset[training_data_len:, 0]\n",
        "for i in range(past_days, len(test_data)):\n",
        "    x_test.append(test_data[i-past_days:i, :])"
      ],
      "execution_count": null,
      "outputs": []
    },
    {
      "cell_type": "code",
      "metadata": {
        "id": "zBKWNdXcI34W"
      },
      "source": [
        "x_test = np.array(x_test)"
      ],
      "execution_count": null,
      "outputs": []
    },
    {
      "cell_type": "code",
      "metadata": {
        "id": "FRN-WG4WI6d6"
      },
      "source": [
        "x_test = np.reshape(x_test, (x_test.shape[0], x_test.shape[1], 1))"
      ],
      "execution_count": null,
      "outputs": []
    },
    {
      "cell_type": "markdown",
      "metadata": {
        "id": "XFSAVttynIin"
      },
      "source": [
        "convert array to dataset matrix.reshape input to be [samples, time steps, features]"
      ]
    },
    {
      "cell_type": "code",
      "metadata": {
        "id": "y_e4r45gI8YP"
      },
      "source": [
        "predictions = model.predict(x_test)\n",
        "predictions = scaler.inverse_transform(predictions)"
      ],
      "execution_count": null,
      "outputs": []
    },
    {
      "cell_type": "code",
      "metadata": {
        "colab": {
          "base_uri": "https://localhost:8080/"
        },
        "id": "mq57JNPII_1_",
        "outputId": "e327e1e4-ea58-4842-97d2-267deff1dc2a"
      },
      "source": [
        "predictions"
      ],
      "execution_count": null,
      "outputs": [
        {
          "output_type": "execute_result",
          "data": {
            "text/plain": [
              "array([[ 63.889828],\n",
              "       [ 65.951355],\n",
              "       [ 68.342476],\n",
              "       [ 69.86124 ],\n",
              "       [ 70.6787  ],\n",
              "       [ 70.76206 ],\n",
              "       [ 70.88676 ],\n",
              "       [ 70.946526],\n",
              "       [ 71.8979  ],\n",
              "       [ 73.27753 ],\n",
              "       [ 74.88439 ],\n",
              "       [ 75.54436 ],\n",
              "       [ 74.29637 ],\n",
              "       [ 72.82981 ],\n",
              "       [ 72.746284],\n",
              "       [ 72.62449 ],\n",
              "       [ 73.24237 ],\n",
              "       [ 73.6341  ],\n",
              "       [ 73.55023 ],\n",
              "       [ 72.60689 ],\n",
              "       [ 70.8839  ],\n",
              "       [ 69.55535 ],\n",
              "       [ 67.94628 ],\n",
              "       [ 68.06085 ],\n",
              "       [ 68.096375],\n",
              "       [ 71.04043 ],\n",
              "       [ 72.541435],\n",
              "       [ 72.61151 ],\n",
              "       [ 74.340614],\n",
              "       [ 75.62929 ],\n",
              "       [ 78.820244],\n",
              "       [ 84.98966 ],\n",
              "       [ 89.70257 ],\n",
              "       [ 91.20861 ],\n",
              "       [ 90.74018 ],\n",
              "       [ 88.48073 ],\n",
              "       [ 86.4277  ],\n",
              "       [ 83.820526],\n",
              "       [ 82.12559 ],\n",
              "       [ 81.0512  ],\n",
              "       [ 80.71324 ],\n",
              "       [ 80.35809 ],\n",
              "       [ 80.768364],\n",
              "       [ 83.60547 ],\n",
              "       [ 86.08335 ],\n",
              "       [ 87.19719 ],\n",
              "       [ 87.3989  ],\n",
              "       [ 86.93625 ],\n",
              "       [ 86.62374 ],\n",
              "       [ 86.88302 ],\n",
              "       [ 89.31474 ],\n",
              "       [ 90.297646],\n",
              "       [ 88.66688 ],\n",
              "       [ 87.34961 ],\n",
              "       [ 85.599434],\n",
              "       [ 79.563515],\n",
              "       [ 76.517296],\n",
              "       [ 72.03219 ],\n",
              "       [ 70.88022 ],\n",
              "       [ 71.630295],\n",
              "       [ 71.04045 ],\n",
              "       [ 71.46119 ],\n",
              "       [ 73.94726 ],\n",
              "       [ 75.631035],\n",
              "       [ 77.56655 ],\n",
              "       [ 78.721634],\n",
              "       [ 77.02527 ],\n",
              "       [ 75.91975 ],\n",
              "       [ 76.677986],\n",
              "       [ 77.351   ],\n",
              "       [ 79.61007 ],\n",
              "       [ 82.072815],\n",
              "       [ 85.4646  ],\n",
              "       [ 87.95414 ],\n",
              "       [ 88.993385],\n",
              "       [ 88.606476],\n",
              "       [ 87.78748 ],\n",
              "       [ 95.184715],\n",
              "       [104.40882 ],\n",
              "       [111.34525 ],\n",
              "       [118.57478 ],\n",
              "       [118.5359  ],\n",
              "       [116.096214],\n",
              "       [113.2392  ],\n",
              "       [111.68673 ],\n",
              "       [113.15987 ],\n",
              "       [118.22515 ],\n",
              "       [123.38872 ],\n",
              "       [127.18052 ],\n",
              "       [128.63525 ],\n",
              "       [127.25826 ],\n",
              "       [125.04199 ],\n",
              "       [132.99538 ],\n",
              "       [140.76521 ],\n",
              "       [145.16643 ],\n",
              "       [146.08176 ],\n",
              "       [152.10626 ],\n",
              "       [157.87398 ],\n",
              "       [154.42023 ],\n",
              "       [149.9604  ],\n",
              "       [147.76245 ],\n",
              "       [151.1805  ],\n",
              "       [157.02615 ],\n",
              "       [163.28188 ],\n",
              "       [166.6777  ],\n",
              "       [157.05637 ],\n",
              "       [142.03517 ],\n",
              "       [132.3801  ],\n",
              "       [127.34626 ],\n",
              "       [126.61493 ],\n",
              "       [125.98019 ],\n",
              "       [129.94934 ],\n",
              "       [133.30898 ],\n",
              "       [138.0656  ],\n",
              "       [138.56618 ],\n",
              "       [133.52742 ]], dtype=float32)"
            ]
          },
          "metadata": {
            "tags": []
          },
          "execution_count": 66
        }
      ]
    },
    {
      "cell_type": "code",
      "metadata": {
        "colab": {
          "base_uri": "https://localhost:8080/"
        },
        "id": "-2Idvd56JCD1",
        "outputId": "7ae01081-c973-4e71-eb48-5003cbb32732"
      },
      "source": [
        "rmse = np.sqrt(np.mean(predictions - y_test)**2)\n",
        "print(\"Root Mean Squared Error = \", rmse)"
      ],
      "execution_count": null,
      "outputs": [
        {
          "output_type": "stream",
          "text": [
            "Root Mean Squared Error =  2.555539152211158\n"
          ],
          "name": "stdout"
        }
      ]
    },
    {
      "cell_type": "code",
      "metadata": {
        "id": "NHRH5aepyQno"
      },
      "source": [
        "train_predict=model.predict(x_train)\n",
        "test_predict=model.predict(x_test)\n",
        "train_predict=scaler.inverse_transform(train_predict)\n",
        "test_predict=scaler.inverse_transform(test_predict)"
      ],
      "execution_count": null,
      "outputs": []
    },
    {
      "cell_type": "markdown",
      "metadata": {
        "id": "u6OAr7wFoFuD"
      },
      "source": [
        "make and invert predictions."
      ]
    },
    {
      "cell_type": "code",
      "metadata": {
        "colab": {
          "base_uri": "https://localhost:8080/"
        },
        "id": "8wb3eSQUyJJv",
        "outputId": "a1e4f746-c34e-4187-b1e1-6b8e53b0a9ab"
      },
      "source": [
        "import math\n",
        "from sklearn.metrics import mean_squared_error\n",
        "math.sqrt(mean_squared_error(y_train,train_predict))"
      ],
      "execution_count": null,
      "outputs": [
        {
          "output_type": "execute_result",
          "data": {
            "text/plain": [
              "58.80857348845831"
            ]
          },
          "metadata": {
            "tags": []
          },
          "execution_count": 69
        }
      ]
    },
    {
      "cell_type": "code",
      "metadata": {
        "colab": {
          "base_uri": "https://localhost:8080/",
          "height": 463
        },
        "id": "K9ij1mnRJGyG",
        "outputId": "d51783d2-f245-4fdd-c333-101fe11e5b40"
      },
      "source": [
        "import copy\n",
        "valid = copy.deepcopy(data[training_data_len:])\n",
        "valid['Predictions'] = predictions\n",
        "plt.figure(figsize=(13,7))\n",
        "plt.title('Model')\n",
        "plt.xlabel('Date', fontsize= 15, color = 'g')\n",
        "plt.ylabel('Close Price', fontsize = 15, color = 'g')\n",
        "plt.plot(valid['Close'], color = 'blue', label = 'Actual Close Price')\n",
        "plt.plot(valid['Predictions'],  color = 'red', label = 'Predicted Close Price')\n",
        "plt.legend(loc = 'lower right', fontsize = 12)\n",
        "plt.xticks(fontsize = 12)\n",
        "plt.yticks(fontsize = 12)\n",
        "plt.show()"
      ],
      "execution_count": null,
      "outputs": [
        {
          "output_type": "display_data",
          "data": {
            "image/png": "[encoded data removed]",
            "text/plain": [
              "<Figure size 936x504 with 1 Axes>"
            ]
          },
          "metadata": {
            "tags": [],
            "needs_background": "light"
          }
        }
      ]
    },
    {
      "cell_type": "code",
      "metadata": {
        "colab": {
          "base_uri": "https://localhost:8080/",
          "height": 446
        },
        "id": "weSkL1MPJJ9F",
        "outputId": "6531d974-a24d-46c5-ea05-017f833bccb3"
      },
      "source": [
        "valid[['Close', 'Predictions']]"
      ],
      "execution_count": null,
      "outputs": [
        {
          "output_type": "execute_result",
          "data": {
            "text/html": [
              "<div>\n",
              "<style scoped>\n",
              "    .dataframe tbody tr th:only-of-type {\n",
              "        vertical-align: middle;\n",
              "    }\n",
              "\n",
              "    .dataframe tbody tr th {\n",
              "        vertical-align: top;\n",
              "    }\n",
              "\n",
              "    .dataframe thead th {\n",
              "        text-align: right;\n",
              "    }\n",
              "</style>\n",
              "<table border=\"1\" class=\"dataframe\">\n",
              "  <thead>\n",
              "    <tr style=\"text-align: right;\">\n",
              "      <th></th>\n",
              "      <th>Close</th>\n",
              "      <th>Predictions</th>\n",
              "    </tr>\n",
              "    <tr>\n",
              "      <th>Date</th>\n",
              "      <th></th>\n",
              "      <th></th>\n",
              "    </tr>\n",
              "  </thead>\n",
              "  <tbody>\n",
              "    <tr>\n",
              "      <th>2019-06-07</th>\n",
              "      <td>68.69</td>\n",
              "      <td>63.889828</td>\n",
              "    </tr>\n",
              "    <tr>\n",
              "      <th>2019-06-11</th>\n",
              "      <td>71.24</td>\n",
              "      <td>65.951355</td>\n",
              "    </tr>\n",
              "    <tr>\n",
              "      <th>2019-06-11</th>\n",
              "      <td>71.24</td>\n",
              "      <td>68.342476</td>\n",
              "    </tr>\n",
              "    <tr>\n",
              "      <th>2019-06-18</th>\n",
              "      <td>71.96</td>\n",
              "      <td>69.861237</td>\n",
              "    </tr>\n",
              "    <tr>\n",
              "      <th>2019-06-19</th>\n",
              "      <td>71.80</td>\n",
              "      <td>70.678703</td>\n",
              "    </tr>\n",
              "    <tr>\n",
              "      <th>...</th>\n",
              "      <td>...</td>\n",
              "      <td>...</td>\n",
              "    </tr>\n",
              "    <tr>\n",
              "      <th>2021-04-28</th>\n",
              "      <td>136.57</td>\n",
              "      <td>129.949341</td>\n",
              "    </tr>\n",
              "    <tr>\n",
              "      <th>2021-04-29</th>\n",
              "      <td>142.68</td>\n",
              "      <td>133.308975</td>\n",
              "    </tr>\n",
              "    <tr>\n",
              "      <th>2021-05-03</th>\n",
              "      <td>137.43</td>\n",
              "      <td>138.065598</td>\n",
              "    </tr>\n",
              "    <tr>\n",
              "      <th>2021-05-14</th>\n",
              "      <td>130.15</td>\n",
              "      <td>138.566177</td>\n",
              "    </tr>\n",
              "    <tr>\n",
              "      <th>2021-05-21</th>\n",
              "      <td>131.46</td>\n",
              "      <td>133.527420</td>\n",
              "    </tr>\n",
              "  </tbody>\n",
              "</table>\n",
              "<p>116 rows × 2 columns</p>\n",
              "</div>"
            ],
            "text/plain": [
              "             Close  Predictions\n",
              "Date                           \n",
              "2019-06-07   68.69    63.889828\n",
              "2019-06-11   71.24    65.951355\n",
              "2019-06-11   71.24    68.342476\n",
              "2019-06-18   71.96    69.861237\n",
              "2019-06-19   71.80    70.678703\n",
              "...            ...          ...\n",
              "2021-04-28  136.57   129.949341\n",
              "2021-04-29  142.68   133.308975\n",
              "2021-05-03  137.43   138.065598\n",
              "2021-05-14  130.15   138.566177\n",
              "2021-05-21  131.46   133.527420\n",
              "\n",
              "[116 rows x 2 columns]"
            ]
          },
          "metadata": {
            "tags": []
          },
          "execution_count": 71
        }
      ]
    },
    {
      "cell_type": "code",
      "metadata": {
        "colab": {
          "base_uri": "https://localhost:8080/"
        },
        "id": "Kv8DHuk8JRg6",
        "outputId": "61dbb7db-eb85-40e5-ec79-6c613dbdd5a9"
      },
      "source": [
        "import datetime\n",
        "last_day = data.index[-1]\n",
        "next_day = last_day + datetime.timedelta(days = 1)\n",
        "print(next_day)"
      ],
      "execution_count": null,
      "outputs": [
        {
          "output_type": "stream",
          "text": [
            "2021-05-22 00:00:00\n"
          ],
          "name": "stdout"
        }
      ]
    },
    {
      "cell_type": "code",
      "metadata": {
        "colab": {
          "base_uri": "https://localhost:8080/"
        },
        "id": "48SCLOD7JUAy",
        "outputId": "4c455dea-63b6-4851-cf90-5ca1a771f369"
      },
      "source": [
        "new_df = data.filter(['Close'])\n",
        "last_20_days = new_df[-20: ].values\n",
        "last_20_days_scaled = scaler.transform(last_20_days)\n",
        "\n",
        "X_test = []\n",
        "X_test.append(last_20_days_scaled)\n",
        "\n",
        "X_test = np.array(X_test)\n",
        "\n",
        "X_test = np.reshape(X_test, (X_test.shape[0], X_test.shape[1], 1))\n",
        "\n",
        "pred_price = model.predict(X_test)\n",
        "\n",
        "pred_price = scaler.inverse_transform(pred_price)\n",
        "print('Predicted Close Price for {} '.format(next_day) + ' = ', pred_price)"
      ],
      "execution_count": null,
      "outputs": [
        {
          "output_type": "stream",
          "text": [
            "Predicted Close Price for 2021-05-22 00:00:00  =  [[129.21437]]\n"
          ],
          "name": "stdout"
        }
      ]
    },
    {
      "cell_type": "code",
      "metadata": {
        "id": "t4fxoPccJout"
      },
      "source": [
        "previous = pred_price\n",
        "previous_pred_price = new_df.at[str(last_day), 'Close']"
      ],
      "execution_count": null,
      "outputs": []
    },
    {
      "cell_type": "code",
      "metadata": {
        "colab": {
          "base_uri": "https://localhost:8080/"
        },
        "id": "NHQNsGZMJ0_i",
        "outputId": "83f74ec8-f9b3-4aa2-9720-4f16eb2f6c4e"
      },
      "source": [
        "diff=(float)(pred_price - previous_pred_price)\n",
        "if(diff < 0):\n",
        "  print(\"percentage decrease = \",round(((- (diff)/previous_pred_price)*100),4))\n",
        "else:\n",
        "  print(\"percentage increase = \",round((( (diff)/previous_pred_price)*100),4))"
      ],
      "execution_count": null,
      "outputs": [
        {
          "output_type": "stream",
          "text": [
            "percentage decrease =  1.7082\n"
          ],
          "name": "stdout"
        }
      ]
    },
    {
      "cell_type": "code",
      "metadata": {
        "colab": {
          "base_uri": "https://localhost:8080/",
          "height": 564
        },
        "id": "fzcv6J5_v-_B",
        "outputId": "85323ddd-0bc5-4630-87be-d7b1068b8b0e"
      },
      "source": [
        "train = data[:training_data_len]\n",
        "valid = data[training_data_len:]\n",
        "valid['Predictions'] = predictions\n",
        "plt.figure(figsize=(13,7))\n",
        "plt.title('Model')\n",
        "plt.xlabel('Date', fontsize=18)\n",
        "plt.ylabel('Close Price ', fontsize=18)\n",
        "plt.plot(train['Close'])\n",
        "plt.plot(valid[['Close', 'Predictions']])\n",
        "plt.legend(['Train', 'Val', 'Predictions'], loc='lower right')\n",
        "plt.show()"
      ],
      "execution_count": null,
      "outputs": [
        {
          "output_type": "stream",
          "text": [
            "/usr/local/lib/python3.7/dist-packages/ipykernel_launcher.py:3: SettingWithCopyWarning: \n",
            "A value is trying to be set on a copy of a slice from a DataFrame.\n",
            "Try using .loc[row_indexer,col_indexer] = value instead\n",
            "\n",
            "See the caveats in the documentation: https://pandas.pydata.org/pandas-docs/stable/user_guide/indexing.html#returning-a-view-versus-a-copy\n",
            "  This is separate from the ipykernel package so we can avoid doing imports until\n"
          ],
          "name": "stderr"
        },
        {
          "output_type": "display_data",
          "data": {
            "image/png": "[encoded data removed]",
            "text/plain": [
              "<Figure size 936x504 with 1 Axes>"
            ]
          },
          "metadata": {
            "tags": [],
            "needs_background": "light"
          }
        }
      ]
    },
    {
      "cell_type": "code",
      "metadata": {
        "id": "ONAtq8KFk7xr"
      },
      "source": [
        "model.save(\"model.h5\")"
      ],
      "execution_count": null,
      "outputs": []
    },
    {
      "cell_type": "code",
      "metadata": {
        "id": "TrxAG36kktyB",
        "colab": {
          "base_uri": "https://localhost:8080/",
          "height": 17
        },
        "outputId": "e9867caa-06ae-4436-a2a3-5fb645bfbca1"
      },
      "source": [
        "files.download('model.h5')"
      ],
      "execution_count": null,
      "outputs": [
        {
          "output_type": "display_data",
          "data": {
            "application/javascript": [
              "\n",
              "    async function download(id, filename, size) {\n",
              "      if (!google.colab.kernel.accessAllowed) {\n",
              "        return;\n",
              "      }\n",
              "      const div = document.createElement('div');\n",
              "      const label = document.createElement('label');\n",
              "      label.textContent = `Downloading \"${filename}\": `;\n",
              "      div.appendChild(label);\n",
              "      const progress = document.createElement('progress');\n",
              "      progress.max = size;\n",
              "      div.appendChild(progress);\n",
              "      document.body.appendChild(div);\n",
              "\n",
              "      const buffers = [];\n",
              "      let downloaded = 0;\n",
              "\n",
              "      const channel = await google.colab.kernel.comms.open(id);\n",
              "      // Send a message to notify the kernel that we're ready.\n",
              "      channel.send({})\n",
              "\n",
              "      for await (const message of channel.messages) {\n",
              "        // Send a message to notify the kernel that we're ready.\n",
              "        channel.send({})\n",
              "        if (message.buffers) {\n",
              "          for (const buffer of message.buffers) {\n",
              "            buffers.push(buffer);\n",
              "            downloaded += buffer.byteLength;\n",
              "            progress.value = downloaded;\n",
              "          }\n",
              "        }\n",
              "      }\n",
              "      const blob = new Blob(buffers, {type: 'application/binary'});\n",
              "      const a = document.createElement('a');\n",
              "      a.href = window.URL.createObjectURL(blob);\n",
              "      a.download = filename;\n",
              "      div.appendChild(a);\n",
              "      a.click();\n",
              "      div.remove();\n",
              "    }\n",
              "  "
            ],
            "text/plain": [
              "<IPython.core.display.Javascript object>"
            ]
          },
          "metadata": {
            "tags": []
          }
        },
        {
          "output_type": "display_data",
          "data": {
            "application/javascript": [
              "download(\"download_5e1cb0d5-1c51-4129-9c49-39846eeb7fc0\", \"model.h5\", 2279336)"
            ],
            "text/plain": [
              "<IPython.core.display.Javascript object>"
            ]
          },
          "metadata": {
            "tags": []
          }
        }
      ]
    },
    {
      "cell_type": "code",
      "metadata": {
        "id": "HhGyr0G8moYp"
      },
      "source": [
        ""
      ],
      "execution_count": null,
      "outputs": []
    }
  ]
}